{
 "cells": [
  {
   "cell_type": "code",
   "execution_count": 12,
   "metadata": {},
   "outputs": [],
   "source": [
    "#import dependencies\n",
    "\n",
    "import requests\n",
    "import json\n",
    "import twitter\n",
    "from config import consumer_key, consumer_secret, access_token, access_token_secret"
   ]
  },
  {
   "cell_type": "code",
   "execution_count": 2,
   "metadata": {},
   "outputs": [
    {
     "name": "stdout",
     "output_type": "stream",
     "text": [
      "{\"created_at\": \"Sun Jun 14 19:52:12 +0000 2015\", \"favourites_count\": 52, \"followers_count\": 40, \"friends_count\": 436, \"id\": 3245361546, \"id_str\": \"3245361546\", \"name\": \"Yash\", \"profile_background_color\": \"FFF04D\", \"profile_background_image_url\": \"http://abs.twimg.com/images/themes/theme19/bg.gif\", \"profile_background_image_url_https\": \"https://abs.twimg.com/images/themes/theme19/bg.gif\", \"profile_banner_url\": \"https://pbs.twimg.com/profile_banners/3245361546/1438476124\", \"profile_image_url\": \"http://pbs.twimg.com/profile_images/627640311397896192/z-LLRSlc_normal.jpg\", \"profile_image_url_https\": \"https://pbs.twimg.com/profile_images/627640311397896192/z-LLRSlc_normal.jpg\", \"profile_link_color\": \"0099CC\", \"profile_sidebar_border_color\": \"FFF8AD\", \"profile_sidebar_fill_color\": \"F6FFD1\", \"profile_text_color\": \"333333\", \"profile_use_background_image\": true, \"screen_name\": \"yashwinie\", \"status\": {\"created_at\": \"Tue Jan 15 23:40:59 +0000 2019\", \"favorite_count\": 1, \"id\": 1085320973841182721, \"id_str\": \"1085320973841182721\", \"in_reply_to_screen_name\": \"agalbraith\", \"in_reply_to_status_id\": 1083475003612561408, \"in_reply_to_user_id\": 16092272, \"lang\": \"und\", \"source\": \"<a href=\\\"http://twitter.com/download/iphone\\\" rel=\\\"nofollow\\\">Twitter for iPhone</a>\", \"text\": \"@agalbraith !!!\"}, \"statuses_count\": 15}\n"
     ]
    }
   ],
   "source": [
    "# = twitter.Api(consumer_key='iFU0UAXonvu3Mj96SnFX4SWz9',\n",
    "#  consumer_secret='cQWhnX7y8b8TnjiRbZ9KPpFlrrw18ZGkjQeICPHRFoUkiiyn7Q',\n",
    "#  access_token_key='3245361546-e1NtWlJUAoodH9lIs59oV4wooPy6vhZXYq3LcO8',\n",
    "#  access_token_secret='6LtrCsiK4gRpE9TVUhnNumHwMI83THcY7Djn5jBEYhgXV')\n",
    "\n",
    "#print(api.VerifyCredentials())"
   ]
  },
  {
   "cell_type": "code",
   "execution_count": 14,
   "metadata": {},
   "outputs": [
    {
     "ename": "TwitterError",
     "evalue": "[{'code': 89, 'message': 'Invalid or expired token.'}]",
     "output_type": "error",
     "traceback": [
      "\u001b[0;31m---------------------------------------------------------------------------\u001b[0m",
      "\u001b[0;31mTwitterError\u001b[0m                              Traceback (most recent call last)",
      "\u001b[0;32m<ipython-input-14-4017ebe4b2d6>\u001b[0m in \u001b[0;36m<module>\u001b[0;34m\u001b[0m\n\u001b[1;32m      4\u001b[0m   access_token_secret='{access_token_secret}')\n\u001b[1;32m      5\u001b[0m \u001b[0;34m\u001b[0m\u001b[0m\n\u001b[0;32m----> 6\u001b[0;31m \u001b[0mprint\u001b[0m\u001b[0;34m(\u001b[0m\u001b[0mapi\u001b[0m\u001b[0;34m.\u001b[0m\u001b[0mVerifyCredentials\u001b[0m\u001b[0;34m(\u001b[0m\u001b[0;34m)\u001b[0m\u001b[0;34m)\u001b[0m\u001b[0;34m\u001b[0m\u001b[0;34m\u001b[0m\u001b[0m\n\u001b[0m",
      "\u001b[0;32m~/anaconda3/lib/python3.7/site-packages/twitter/api.py\u001b[0m in \u001b[0;36mVerifyCredentials\u001b[0;34m(self, include_entities, skip_status, include_email)\u001b[0m\n\u001b[1;32m   4698\u001b[0m \u001b[0;34m\u001b[0m\u001b[0m\n\u001b[1;32m   4699\u001b[0m         \u001b[0mresp\u001b[0m \u001b[0;34m=\u001b[0m \u001b[0mself\u001b[0m\u001b[0;34m.\u001b[0m\u001b[0m_RequestUrl\u001b[0m\u001b[0;34m(\u001b[0m\u001b[0murl\u001b[0m\u001b[0;34m,\u001b[0m \u001b[0;34m'GET'\u001b[0m\u001b[0;34m,\u001b[0m \u001b[0mdata\u001b[0m\u001b[0;34m)\u001b[0m\u001b[0;34m\u001b[0m\u001b[0;34m\u001b[0m\u001b[0m\n\u001b[0;32m-> 4700\u001b[0;31m         \u001b[0mdata\u001b[0m \u001b[0;34m=\u001b[0m \u001b[0mself\u001b[0m\u001b[0;34m.\u001b[0m\u001b[0m_ParseAndCheckTwitter\u001b[0m\u001b[0;34m(\u001b[0m\u001b[0mresp\u001b[0m\u001b[0;34m.\u001b[0m\u001b[0mcontent\u001b[0m\u001b[0;34m.\u001b[0m\u001b[0mdecode\u001b[0m\u001b[0;34m(\u001b[0m\u001b[0;34m'utf-8'\u001b[0m\u001b[0;34m)\u001b[0m\u001b[0;34m)\u001b[0m\u001b[0;34m\u001b[0m\u001b[0;34m\u001b[0m\u001b[0m\n\u001b[0m\u001b[1;32m   4701\u001b[0m \u001b[0;34m\u001b[0m\u001b[0m\n\u001b[1;32m   4702\u001b[0m         \u001b[0;32mreturn\u001b[0m \u001b[0mUser\u001b[0m\u001b[0;34m.\u001b[0m\u001b[0mNewFromJsonDict\u001b[0m\u001b[0;34m(\u001b[0m\u001b[0mdata\u001b[0m\u001b[0;34m)\u001b[0m\u001b[0;34m\u001b[0m\u001b[0;34m\u001b[0m\u001b[0m\n",
      "\u001b[0;32m~/anaconda3/lib/python3.7/site-packages/twitter/api.py\u001b[0m in \u001b[0;36m_ParseAndCheckTwitter\u001b[0;34m(self, json_data)\u001b[0m\n\u001b[1;32m   4906\u001b[0m                 \u001b[0;32mraise\u001b[0m \u001b[0mTwitterError\u001b[0m\u001b[0;34m(\u001b[0m\u001b[0;34m{\u001b[0m\u001b[0;34m'message'\u001b[0m\u001b[0;34m:\u001b[0m \u001b[0;34m\"Unauthorized\"\u001b[0m\u001b[0;34m}\u001b[0m\u001b[0;34m)\u001b[0m\u001b[0;34m\u001b[0m\u001b[0;34m\u001b[0m\u001b[0m\n\u001b[1;32m   4907\u001b[0m             \u001b[0;32mraise\u001b[0m \u001b[0mTwitterError\u001b[0m\u001b[0;34m(\u001b[0m\u001b[0;34m{\u001b[0m\u001b[0;34m'Unknown error'\u001b[0m\u001b[0;34m:\u001b[0m \u001b[0;34m'{0}'\u001b[0m\u001b[0;34m.\u001b[0m\u001b[0mformat\u001b[0m\u001b[0;34m(\u001b[0m\u001b[0mjson_data\u001b[0m\u001b[0;34m)\u001b[0m\u001b[0;34m}\u001b[0m\u001b[0;34m)\u001b[0m\u001b[0;34m\u001b[0m\u001b[0;34m\u001b[0m\u001b[0m\n\u001b[0;32m-> 4908\u001b[0;31m         \u001b[0mself\u001b[0m\u001b[0;34m.\u001b[0m\u001b[0m_CheckForTwitterError\u001b[0m\u001b[0;34m(\u001b[0m\u001b[0mdata\u001b[0m\u001b[0;34m)\u001b[0m\u001b[0;34m\u001b[0m\u001b[0;34m\u001b[0m\u001b[0m\n\u001b[0m\u001b[1;32m   4909\u001b[0m         \u001b[0;32mreturn\u001b[0m \u001b[0mdata\u001b[0m\u001b[0;34m\u001b[0m\u001b[0;34m\u001b[0m\u001b[0m\n\u001b[1;32m   4910\u001b[0m \u001b[0;34m\u001b[0m\u001b[0m\n",
      "\u001b[0;32m~/anaconda3/lib/python3.7/site-packages/twitter/api.py\u001b[0m in \u001b[0;36m_CheckForTwitterError\u001b[0;34m(data)\u001b[0m\n\u001b[1;32m   4926\u001b[0m             \u001b[0;32mraise\u001b[0m \u001b[0mTwitterError\u001b[0m\u001b[0;34m(\u001b[0m\u001b[0mdata\u001b[0m\u001b[0;34m[\u001b[0m\u001b[0;34m'error'\u001b[0m\u001b[0;34m]\u001b[0m\u001b[0;34m)\u001b[0m\u001b[0;34m\u001b[0m\u001b[0;34m\u001b[0m\u001b[0m\n\u001b[1;32m   4927\u001b[0m         \u001b[0;32mif\u001b[0m \u001b[0;34m'errors'\u001b[0m \u001b[0;32min\u001b[0m \u001b[0mdata\u001b[0m\u001b[0;34m:\u001b[0m\u001b[0;34m\u001b[0m\u001b[0;34m\u001b[0m\u001b[0m\n\u001b[0;32m-> 4928\u001b[0;31m             \u001b[0;32mraise\u001b[0m \u001b[0mTwitterError\u001b[0m\u001b[0;34m(\u001b[0m\u001b[0mdata\u001b[0m\u001b[0;34m[\u001b[0m\u001b[0;34m'errors'\u001b[0m\u001b[0;34m]\u001b[0m\u001b[0;34m)\u001b[0m\u001b[0;34m\u001b[0m\u001b[0;34m\u001b[0m\u001b[0m\n\u001b[0m\u001b[1;32m   4929\u001b[0m \u001b[0;34m\u001b[0m\u001b[0m\n\u001b[1;32m   4930\u001b[0m     \u001b[0;32mdef\u001b[0m \u001b[0m_RequestChunkedUpload\u001b[0m\u001b[0;34m(\u001b[0m\u001b[0mself\u001b[0m\u001b[0;34m,\u001b[0m \u001b[0murl\u001b[0m\u001b[0;34m,\u001b[0m \u001b[0mheaders\u001b[0m\u001b[0;34m,\u001b[0m \u001b[0mdata\u001b[0m\u001b[0;34m)\u001b[0m\u001b[0;34m:\u001b[0m\u001b[0;34m\u001b[0m\u001b[0;34m\u001b[0m\u001b[0m\n",
      "\u001b[0;31mTwitterError\u001b[0m: [{'code': 89, 'message': 'Invalid or expired token.'}]"
     ]
    }
   ],
   "source": [
    "api = twitter.Api(consumer_key='consumer_key',\n",
    "  consumer_secret='consumer_secret',\n",
    "  access_token_key='access_token',\n",
    "  access_token_secret='access_token_secret')\n",
    "\n",
    "print(api.VerifyCredentials())"
   ]
  },
  {
   "cell_type": "code",
   "execution_count": null,
   "metadata": {},
   "outputs": [],
   "source": [
    "#dictionary of relevant locations\n",
    "\n",
    "location_list = [\n",
    "    {\"city\": \"Anchorage\", \"lat\": 61.22, \"lon\": -149.86},\n",
    "    {\"city\": \"Vancouver\", \"lat\": 49.25, \"lon\": -123.12},\n",
    "    {\"city\": \"Ottawa\", \"lat\": 45.41, \"lon\": -75.70},\n",
    "    {\"city\": \"Paris\", \"lat\": 48.85, \"lon\": 2.35},\n",
    "    {\"city\": \"Moscow\", \"lat\": 55.75, \"lon\": 37.62}, \n",
    "    {\"city\": \"Bangui\", \"lat\": 4.36, \"lon\": 18.56},\n",
    "    {\"city\": \"Gaborne\", \"lat\": -24.66, \"lon\": 25.91},\n",
    "    {\"city\": \"Delhi\", \"lat\": 28.65, \"lon\": 77.23},\n",
    "    {\"city\": \"Chongqing\", \"lat\": 29.56, \"lon\": 106.55},\n",
    "    {\"city\": \"Malibu\", \"lat\": 34.01, \"lon\": -118.81},\n",
    "    {\"city\": \"Arlington\", \"lat\": 38.89, \"lon\": -77.08}\n",
    "]"
   ]
  },
  {
   "cell_type": "markdown",
   "metadata": {},
   "source": [
    "Twitter API call\n",
    "* API will be triggered from user input/click from dropdown on homepage"
   ]
  },
  {
   "cell_type": "code",
   "execution_count": null,
   "metadata": {},
   "outputs": [],
   "source": [
    "###SAMPLE PULL TO TEST THAT API WORKS\n",
    "\n",
    "#request variables\n",
    "url = \"https://api.twitter.com/1.1/search/tweets.json\"\n",
    "search_terms = \"%23wildfire%20%23SouthWales\"\n",
    "lang = \"eu\"\n",
    "result_type = \"mixed\"\n",
    "count = \"10\"\n",
    "\n",
    "#build query url\n",
    "query_url = f\"{url}?q={search_terms}&lang={lang}&result_type={result_type}&count={count}\"\n",
    "print(query_url)"
   ]
  },
  {
   "cell_type": "code",
   "execution_count": null,
   "metadata": {},
   "outputs": [],
   "source": []
  }
 ],
 "metadata": {
  "kernelspec": {
   "display_name": "Python 3",
   "language": "python",
   "name": "python3"
  },
  "language_info": {
   "codemirror_mode": {
    "name": "ipython",
    "version": 3
   },
   "file_extension": ".py",
   "mimetype": "text/x-python",
   "name": "python",
   "nbconvert_exporter": "python",
   "pygments_lexer": "ipython3",
   "version": "3.7.3"
  }
 },
 "nbformat": 4,
 "nbformat_minor": 2
}
