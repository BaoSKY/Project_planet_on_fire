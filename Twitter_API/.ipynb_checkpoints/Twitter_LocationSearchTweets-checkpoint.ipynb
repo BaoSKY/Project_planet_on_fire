{
 "cells": [
  {
   "cell_type": "code",
   "execution_count": 26,
   "metadata": {},
   "outputs": [],
   "source": [
    "#import dependencies\n",
    "\n",
    "import requests\n",
    "import json\n",
    "import twitter\n",
    "from twitter import *\n",
    "from config import consumer_key, consumer_secret, access_token, access_token_secret"
   ]
  },
  {
   "cell_type": "code",
   "execution_count": 27,
   "metadata": {},
   "outputs": [],
   "source": [
    "#dictionary of relevant locations\n",
    "\n",
    "#Add locations based on where we see forest fires on the map (on home page)\n",
    "\n",
    "location_list = [\n",
    "    {\"region\": \"Brazil\", \"lat\": -14.23, \"lon\": -51.92},\n",
    "    {\"region\": \"Canada\", \"lat\": 50.67, \"lon\": -120.34},\n",
    "    {\"region\": \"Spain\", \"lat\": 41.11, \"lon\": 1.24},\n",
    "    {\"region\": \"USA\", \"lat\": 34.05, \"lon\": -118.24},\n",
    "    {\"region\": \"Australia\", \"lat\": -31.84, \"lon\": 145.61},\n",
    "    {\"region\": \"New Zealand\", \"lat\": -38.05, \"lon\": 175.43},\n",
    "    {\"region\": \"Congo\", \"lat\": -4.51, \"lon\": 15.53},\n",
    "    {\"region\": \"Indonesia\", \"lat\": -6.17, \"lon\": 106.82},\n",
    "    {\"region\": \"Russia\", \"lat\": 61.01, \"lon\": 99.19},\n",
    "    {\"region\": \"Lebanon\", \"lat\": 33.88, \"lon\": 35.49},\n",
    "    {\"region\": \"North America\", \"lat\": 50.67, \"lon\": -120.34},\n",
    "    {\"region\": \"South America\", \"lat\": -14.23, \"lon\": -51.92},\n",
    "    {\"region\": \"Australia\", \"lat\": -31.84, \"lon\": 145.61},\n",
    "    {\"region\": \"Africa\", \"lat\": -4.51, \"lon\": 15.53},\n",
    "    {\"region\": \"Asia\", \"lat\": -6.17, \"lon\": 106.82},\n",
    "    {\"region\": \"Europe\", \"lat\": 41.11, \"lon\": 1.24}\n",
    "]\n",
    "\n",
    "\n",
    "\n",
    "\n",
    "#print(location_list[0][\"region\"])"
   ]
  },
  {
   "cell_type": "code",
   "execution_count": 28,
   "metadata": {},
   "outputs": [
    {
     "name": "stdout",
     "output_type": "stream",
     "text": [
      "{\"created_at\": \"Sun Jun 14 19:52:12 +0000 2015\", \"favourites_count\": 52, \"followers_count\": 40, \"friends_count\": 436, \"id\": 3245361546, \"id_str\": \"3245361546\", \"name\": \"Yash\", \"profile_background_color\": \"FFF04D\", \"profile_background_image_url\": \"http://abs.twimg.com/images/themes/theme19/bg.gif\", \"profile_background_image_url_https\": \"https://abs.twimg.com/images/themes/theme19/bg.gif\", \"profile_banner_url\": \"https://pbs.twimg.com/profile_banners/3245361546/1438476124\", \"profile_image_url\": \"http://pbs.twimg.com/profile_images/627640311397896192/z-LLRSlc_normal.jpg\", \"profile_image_url_https\": \"https://pbs.twimg.com/profile_images/627640311397896192/z-LLRSlc_normal.jpg\", \"profile_link_color\": \"0099CC\", \"profile_sidebar_border_color\": \"FFF8AD\", \"profile_sidebar_fill_color\": \"F6FFD1\", \"profile_text_color\": \"333333\", \"profile_use_background_image\": true, \"screen_name\": \"yashwinie\", \"status\": {\"created_at\": \"Tue Jan 15 23:40:59 +0000 2019\", \"favorite_count\": 1, \"id\": 1085320973841182721, \"id_str\": \"1085320973841182721\", \"in_reply_to_screen_name\": \"agalbraith\", \"in_reply_to_status_id\": 1083475003612561408, \"in_reply_to_user_id\": 16092272, \"lang\": \"und\", \"source\": \"<a href=\\\"http://twitter.com/download/iphone\\\" rel=\\\"nofollow\\\">Twitter for iPhone</a>\", \"text\": \"@agalbraith !!!\"}, \"statuses_count\": 15}\n"
     ]
    }
   ],
   "source": [
    "#authenticate with Twitter\n",
    "\n",
    "api = twitter.Api(consumer_key=consumer_key,\n",
    "  consumer_secret=consumer_secret,\n",
    "  access_token_key=access_token,\n",
    "  access_token_secret=access_token_secret)\n",
    "\n",
    "    #check authentication\n",
    "print(api.VerifyCredentials())"
   ]
  },
  {
   "cell_type": "code",
   "execution_count": 29,
   "metadata": {},
   "outputs": [
    {
     "name": "stdout",
     "output_type": "stream",
     "text": [
      "{'url': 'https://twitter.com/browe46/status/1226846606856740865', 'author_name': '@SouthEastAsia46', 'author_url': 'https://twitter.com/browe46', 'html': '<blockquote class=\"twitter-tweet\"><p lang=\"en\" dir=\"ltr\">Torrential rain douses massive Australian bush fire, triggers flash floods <a href=\"https://t.co/yT9G0GrIpm\">https://t.co/yT9G0GrIpm</a></p>&mdash; @SouthEastAsia46 (@browe46) <a href=\"https://twitter.com/browe46/status/1226846606856740865?ref_src=twsrc%5Etfw\">February 10, 2020</a></blockquote>\\n<script async src=\"https://platform.twitter.com/widgets.js\" charset=\"utf-8\"></script>\\n', 'width': 550, 'height': None, 'type': 'rich', 'cache_age': '3153600000', 'provider_name': 'Twitter', 'provider_url': 'https://twitter.com', 'version': '1.0'}\n"
     ]
    }
   ],
   "source": [
    "#sample search\n",
    "\n",
    "search = api.GetSearch(\"wildfire South Wales\")\n",
    "#print(search)\n",
    "for tweet in search:\n",
    "    #print(tweet.id)\n",
    "    tweet_id = tweet.id\n",
    "    \n",
    "#oembed with single call as sample\n",
    "tweet_embed = api.GetStatusOembed(status_id=1226846606856740865,  url=None, maxwidth=None, hide_media=False, hide_thread=False, omit_script=False, align=None, related=None, lang=None)\n",
    "print(tweet_embed)"
   ]
  },
  {
   "cell_type": "code",
   "execution_count": 33,
   "metadata": {},
   "outputs": [
    {
     "name": "stdout",
     "output_type": "stream",
     "text": [
      "Processing Brazil\n",
      "1224668185565126658\n",
      "Processing Canada\n",
      "1227336361201545224\n",
      "1227331823287644166\n",
      "1227328511179882497\n",
      "1227279163427393536\n",
      "1227248172830994432\n",
      "1227236085568241670\n",
      "1227234779843715073\n",
      "1227234479716159488\n",
      "1227203286706487296\n",
      "1227199594381094912\n",
      "1227199269855121408\n",
      "1227181484848467968\n",
      "1227180963328692226\n",
      "1227177181672923136\n",
      "1227175458472509440\n",
      "Processing Spain\n",
      "Processing USA\n",
      "1227323661054554113\n",
      "1226590611953811458\n",
      "1226578826416680960\n",
      "1226181395921408001\n",
      "1226180527998349314\n",
      "1226145992191479808\n",
      "1226104750728286208\n",
      "1226034129617244161\n",
      "1225972111229014018\n",
      "1225923056603926529\n",
      "1225919295596744705\n",
      "1225906945024053250\n",
      "1225902807624097798\n",
      "1225888403096510470\n",
      "1225878067169628161\n",
      "Processing Australia\n",
      "1227303789348126722\n",
      "1227222102362730497\n",
      "1227250941197312002\n",
      "1227362809790574592\n",
      "1227356077932437505\n",
      "1227349920061022210\n",
      "1227342028389986306\n",
      "1227339835121242112\n",
      "1227337306354307072\n",
      "1227336361201545224\n",
      "1227331823287644166\n",
      "1227329542550888449\n",
      "1227328865925816321\n",
      "1227328511179882497\n",
      "1227321580742696960\n",
      "Processing New Zealand\n",
      "Processing Congo\n",
      "Processing Indonesia\n",
      "1226059054377660416\n",
      "Processing Russia\n",
      "Processing Lebanon\n",
      "1225481299382689792\n",
      "Processing North America\n",
      "1227319825137053696\n",
      "1227308684306534405\n",
      "1227203135023632386\n",
      "Processing South America\n",
      "Processing Australia\n",
      "1227303789348126722\n",
      "1227222102362730497\n",
      "1227250941197312002\n",
      "1227362809790574592\n",
      "1227356077932437505\n",
      "1227349920061022210\n",
      "1227342028389986306\n",
      "1227339835121242112\n",
      "1227337306354307072\n",
      "1227336361201545224\n",
      "1227331823287644166\n",
      "1227329542550888449\n",
      "1227328865925816321\n",
      "1227328511179882497\n",
      "1227321580742696960\n",
      "Processing Africa\n",
      "1226230296468586496\n",
      "1226227551657312256\n",
      "1226226504704487424\n",
      "1225621898245156864\n",
      "1225530760842620928\n",
      "1225528357405831175\n",
      "1225528151771688960\n",
      "1225527345467011087\n",
      "1225527090432356389\n",
      "1225526855429693440\n",
      "Processing Asia\n",
      "1226846606856740865\n",
      "1226753316312494080\n",
      "1226751039992483840\n",
      "1226747855496306688\n",
      "1226747051750244352\n",
      "1226746726561853440\n",
      "1226741254584774656\n",
      "1226740942125686786\n",
      "1226740789834735617\n",
      "1226739638758330368\n",
      "1226739231617359873\n",
      "1226737559356743682\n",
      "1226696316253765632\n",
      "1226695852795867137\n",
      "1226695571215441920\n",
      "Processing Europe\n",
      "1226371106665304064\n",
      "1226291393594904579\n",
      "1225277956144037888\n"
     ]
    }
   ],
   "source": [
    "#request variables and loop\n",
    "url = \"https://api.twitter.com/1.1/search/tweets.json\"\n",
    "lang = \"eu\"\n",
    "result_type = \"mixed\"\n",
    "count = \"10\"\n",
    "\n",
    "region_dict = {}\n",
    "\n",
    "#region_dict = {\"canada\";[23456,98765], \"usa\": [67889]}\n",
    "#appending twitter ids in dictionary\n",
    "for i in location_list:\n",
    "    location = i[\"region\"]\n",
    "    try:\n",
    "        location_search = api.GetSearch(f\"wildfire news {location}\"), \n",
    "        print(f\"Processing {location}\")\n",
    "        \n",
    "        for tweet in location_search[0]:\n",
    "            print(tweet.id)\n",
    "            tweet_id = tweet.id\n",
    "            \n",
    "            if location in region_dict:\n",
    "                region_dict[location].append(tweet_id)\n",
    "            else:\n",
    "                region_dict[location] = [tweet_id]\n",
    "                \n",
    "            \n",
    "        #print(location_search[0])\n",
    "    except:\n",
    "        print(f\"{location} not found. Skipping...\")\n",
    "    continue\n",
    "\n",
    "#location_tweet_embed = api.GetStatusOembed(f\"status_id={}\"\")"
   ]
  },
  {
   "cell_type": "code",
   "execution_count": 34,
   "metadata": {},
   "outputs": [
    {
     "name": "stdout",
     "output_type": "stream",
     "text": [
      "{'Brazil': [1224668185565126658], 'Canada': [1227336361201545224, 1227331823287644166, 1227328511179882497, 1227279163427393536, 1227248172830994432, 1227236085568241670, 1227234779843715073, 1227234479716159488, 1227203286706487296, 1227199594381094912, 1227199269855121408, 1227181484848467968, 1227180963328692226, 1227177181672923136, 1227175458472509440], 'USA': [1227323661054554113, 1226590611953811458, 1226578826416680960, 1226181395921408001, 1226180527998349314, 1226145992191479808, 1226104750728286208, 1226034129617244161, 1225972111229014018, 1225923056603926529, 1225919295596744705, 1225906945024053250, 1225902807624097798, 1225888403096510470, 1225878067169628161], 'Australia': [1227303789348126722, 1227222102362730497, 1227250941197312002, 1227362809790574592, 1227356077932437505, 1227349920061022210, 1227342028389986306, 1227339835121242112, 1227337306354307072, 1227336361201545224, 1227331823287644166, 1227329542550888449, 1227328865925816321, 1227328511179882497, 1227321580742696960, 1227303789348126722, 1227222102362730497, 1227250941197312002, 1227362809790574592, 1227356077932437505, 1227349920061022210, 1227342028389986306, 1227339835121242112, 1227337306354307072, 1227336361201545224, 1227331823287644166, 1227329542550888449, 1227328865925816321, 1227328511179882497, 1227321580742696960], 'Indonesia': [1226059054377660416], 'Lebanon': [1225481299382689792], 'North America': [1227319825137053696, 1227308684306534405, 1227203135023632386], 'Africa': [1226230296468586496, 1226227551657312256, 1226226504704487424, 1225621898245156864, 1225530760842620928, 1225528357405831175, 1225528151771688960, 1225527345467011087, 1225527090432356389, 1225526855429693440], 'Asia': [1226846606856740865, 1226753316312494080, 1226751039992483840, 1226747855496306688, 1226747051750244352, 1226746726561853440, 1226741254584774656, 1226740942125686786, 1226740789834735617, 1226739638758330368, 1226739231617359873, 1226737559356743682, 1226696316253765632, 1226695852795867137, 1226695571215441920], 'Europe': [1226371106665304064, 1226291393594904579, 1225277956144037888]}\n"
     ]
    }
   ],
   "source": [
    "#print region_dict to verify the dictionary is now populated with tweet_id\n",
    "print(region_dict)"
   ]
  },
  {
   "cell_type": "code",
   "execution_count": null,
   "metadata": {},
   "outputs": [],
   "source": []
  },
  {
   "cell_type": "code",
   "execution_count": null,
   "metadata": {},
   "outputs": [],
   "source": []
  }
 ],
 "metadata": {
  "kernelspec": {
   "display_name": "Python 3",
   "language": "python",
   "name": "python3"
  },
  "language_info": {
   "codemirror_mode": {
    "name": "ipython",
    "version": 3
   },
   "file_extension": ".py",
   "mimetype": "text/x-python",
   "name": "python",
   "nbconvert_exporter": "python",
   "pygments_lexer": "ipython3",
   "version": "3.7.3"
  }
 },
 "nbformat": 4,
 "nbformat_minor": 2
}
