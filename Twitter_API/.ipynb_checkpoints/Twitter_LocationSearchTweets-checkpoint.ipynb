{
 "cells": [
  {
   "cell_type": "code",
   "execution_count": 71,
   "metadata": {},
   "outputs": [],
   "source": [
    "#import dependencies\n",
    "\n",
    "import requests\n",
    "import json\n",
    "import twitter\n",
    "from twitter import *\n",
    "from config import consumer_key, consumer_secret, access_token, access_token_secret"
   ]
  },
  {
   "cell_type": "code",
   "execution_count": 72,
   "metadata": {},
   "outputs": [],
   "source": [
    "#dictionary of relevant locations\n",
    "\n",
    "#Add locations based on where we see forest fires on the map (on home page)\n",
    "\n",
    "location_list = [\n",
    "    {\"region\": \"Brazil\", \"lat\": -14.23, \"lon\": -51.92},\n",
    "    {\"region\": \"Canada\", \"lat\": 50.67, \"lon\": -120.34},\n",
    "    {\"region\": \"Spain\", \"lat\": 41.11, \"lon\": 1.24},\n",
    "    {\"region\": \"USA\", \"lat\": 34.05, \"lon\": -118.24},\n",
    "    {\"region\": \"Australia\", \"lat\": -31.84, \"lon\": 145.61},\n",
    "    {\"region\": \"New Zealand\", \"lat\": -38.05, \"lon\": 175.43},\n",
    "    {\"region\": \"Congo\", \"lat\": -4.51, \"lon\": 15.53},\n",
    "    {\"region\": \"Indonesia\", \"lat\": -6.17, \"lon\": 106.82},\n",
    "    {\"region\": \"Russia\", \"lat\": 61.01, \"lon\": 99.19},\n",
    "    {\"region\": \"Lebanon\", \"lat\": 33.88, \"lon\": 35.49},\n",
    "    {\"region\": \"North America\", \"lat\": 50.67, \"lon\": -120.34},\n",
    "    {\"region\": \"South America\", \"lat\": -14.23, \"lon\": -51.92},\n",
    "    {\"region\": \"Australia\", \"lat\": -31.84, \"lon\": 145.61},\n",
    "    {\"region\": \"Africa\", \"lat\": -4.51, \"lon\": 15.53},\n",
    "    {\"region\": \"Asia\", \"lat\": -6.17, \"lon\": 106.82},\n",
    "    {\"region\": \"Europe\", \"lat\": 41.11, \"lon\": 1.24}\n",
    "]\n",
    "\n",
    "\n",
    "\n",
    "\n",
    "#print(location_list[0][\"region\"])"
   ]
  },
  {
   "cell_type": "code",
   "execution_count": 73,
   "metadata": {},
   "outputs": [
    {
     "name": "stdout",
     "output_type": "stream",
     "text": [
      "{\"created_at\": \"Sun Jun 14 19:52:12 +0000 2015\", \"favourites_count\": 52, \"followers_count\": 40, \"friends_count\": 436, \"id\": 3245361546, \"id_str\": \"3245361546\", \"name\": \"Yash\", \"profile_background_color\": \"FFF04D\", \"profile_background_image_url\": \"http://abs.twimg.com/images/themes/theme19/bg.gif\", \"profile_background_image_url_https\": \"https://abs.twimg.com/images/themes/theme19/bg.gif\", \"profile_banner_url\": \"https://pbs.twimg.com/profile_banners/3245361546/1438476124\", \"profile_image_url\": \"http://pbs.twimg.com/profile_images/627640311397896192/z-LLRSlc_normal.jpg\", \"profile_image_url_https\": \"https://pbs.twimg.com/profile_images/627640311397896192/z-LLRSlc_normal.jpg\", \"profile_link_color\": \"0099CC\", \"profile_sidebar_border_color\": \"FFF8AD\", \"profile_sidebar_fill_color\": \"F6FFD1\", \"profile_text_color\": \"333333\", \"profile_use_background_image\": true, \"screen_name\": \"yashwinie\", \"status\": {\"created_at\": \"Tue Jan 15 23:40:59 +0000 2019\", \"favorite_count\": 1, \"id\": 1085320973841182721, \"id_str\": \"1085320973841182721\", \"in_reply_to_screen_name\": \"agalbraith\", \"in_reply_to_status_id\": 1083475003612561408, \"in_reply_to_user_id\": 16092272, \"lang\": \"und\", \"source\": \"<a href=\\\"http://twitter.com/download/iphone\\\" rel=\\\"nofollow\\\">Twitter for iPhone</a>\", \"text\": \"@agalbraith !!!\"}, \"statuses_count\": 15}\n"
     ]
    }
   ],
   "source": [
    "#authenticate with Twitter\n",
    "\n",
    "api = twitter.Api(consumer_key=consumer_key,\n",
    "  consumer_secret=consumer_secret,\n",
    "  access_token_key=access_token,\n",
    "  access_token_secret=access_token_secret)\n",
    "\n",
    "    #check authentication\n",
    "print(api.VerifyCredentials())"
   ]
  },
  {
   "cell_type": "code",
   "execution_count": 24,
   "metadata": {},
   "outputs": [
    {
     "name": "stdout",
     "output_type": "stream",
     "text": [
      "[Status(ID=1224692955505725441, ScreenName=Independent, Created=Tue Feb 04 13:55:28 +0000 2020, Text=\"Australian parliament suspended to mourn 'black summer' as 100 wildfires continue to burn https://t.co/dwD2VL0xPU\"), Status(ID=1227000918521958400, ScreenName=LeonardMaes1, Created=Mon Feb 10 22:46:30 +0000 2020, Text='RT @QuickTake: Conjola Park in New South Wales and #Mallacoota in Victoria are 2 of the worst-hit towns from the fires in Australia this we…'), Status(ID=1226737559356743682, ScreenName=SCMPAsia, Created=Mon Feb 10 05:20:00 +0000 2020, Text='The weekend rain has put out one of New South Wales’ worst bush fires, which burned for 74 days, destroying 312 hom… https://t.co/NIplvgsudN'), Status(ID=1226684293507928064, ScreenName=Plaid_Australia, Created=Mon Feb 10 01:48:20 +0000 2020, Text='The New South Wales State Emergency Service reported six flood rescues overnight near Grafton, north of Sydney, ami… https://t.co/LSpp77jdOa'), Status(ID=1226539975891652608, ScreenName=daniceraj, Created=Sun Feb 09 16:14:52 +0000 2020, Text='RT @DKICanada: Heavy rains lashed parts of the wildfire and drought-stricken Australian east coast on Friday, bringing some flooding in Syd…'), Status(ID=1226536369872343041, ScreenName=DKICanada, Created=Sun Feb 09 16:00:33 +0000 2020, Text='Heavy rains lashed parts of the wildfire and drought-stricken Australian east coast on Friday, bringing some floodi… https://t.co/iVnrOPT6Hi'), Status(ID=1226524906877157376, ScreenName=panaynewsdotnet, Created=Sun Feb 09 15:15:00 +0000 2020, Text='Heavy rains lashed parts of the wildfire and drought-stricken Australian east coast on Friday, bringing some floodi… https://t.co/CC1QgHT28B'), Status(ID=1226199009846550529, ScreenName=wibw, Created=Sat Feb 08 17:40:00 +0000 2020, Text='Heavy rains lashed parts of the wildfire and drought-stricken Australian east coast on Friday, bringing some floodi… https://t.co/Q3k73VacFC'), Status(ID=1226120418404323328, ScreenName=jackassdad2, Created=Sat Feb 08 12:27:42 +0000 2020, Text='RT @standardnews: Heavy rainfall brings wildfire relief and flooding to Australia https://t.co/6PyRqB6ovB'), Status(ID=1226000405387022336, ScreenName=bozzo1931, Created=Sat Feb 08 04:30:49 +0000 2020, Text='RT @NewsHour: Heavy rains lashed parts of the wildfire and drought-stricken Australian east coast on Friday, bringing some flooding in Sydn…'), Status(ID=1225954008277254144, ScreenName=DescartesStomp, Created=Sat Feb 08 01:26:27 +0000 2020, Text='Good to hear:\\nhttps://t.co/x3dvN2l9Iy\\nBut this is just a temporary reprieve. If the original source of climate chan… https://t.co/wl6TcuX8fF'), Status(ID=1225935410028630016, ScreenName=Mapiavva, Created=Sat Feb 08 00:12:33 +0000 2020, Text='RT @NewsHour: Heavy rains lashed parts of the wildfire and drought-stricken Australian east coast on Friday, bringing some flooding in Sydn…'), Status(ID=1225932503644377088, ScreenName=NewsHour, Created=Sat Feb 08 00:01:00 +0000 2020, Text='Heavy rains lashed parts of the wildfire and drought-stricken Australian east coast on Friday, bringing some floodi… https://t.co/AYHJFMUWAW'), Status(ID=1225859325693964288, ScreenName=DeightonSue, Created=Fri Feb 07 19:10:13 +0000 2020, Text='RT @EveningStandard: Heavy rainfall brings wildfire relief and flooding to Australia https://t.co/G5103NpfDq'), Status(ID=1225848140689006592, ScreenName=Gambo1911, Created=Fri Feb 07 18:25:46 +0000 2020, Text='RT @wildfire_craig: Lovely sunny day today in the South Wales valleys which unfortunately meant we had a deliberately ignited wildfire appr…')]\n",
      "1224692955505725441\n",
      "1227000918521958400\n",
      "1226737559356743682\n",
      "1226684293507928064\n",
      "1226539975891652608\n",
      "1226536369872343041\n",
      "1226524906877157376\n",
      "1226199009846550529\n",
      "1226120418404323328\n",
      "1226000405387022336\n",
      "1225954008277254144\n",
      "1225935410028630016\n",
      "1225932503644377088\n",
      "1225859325693964288\n",
      "1225848140689006592\n"
     ]
    }
   ],
   "source": [
    "#sample search\n",
    "\n",
    "search = api.GetSearch(\"wildfire South Wales\")\n",
    "print(search)\n",
    "for tweet in search:\n",
    "    print(tweet.id)\n",
    "    tweet_id = tweet.id\n",
    "    "
   ]
  },
  {
   "cell_type": "code",
   "execution_count": 30,
   "metadata": {},
   "outputs": [
    {
     "ename": "SyntaxError",
     "evalue": "invalid syntax (<ipython-input-30-23e3ae795238>, line 21)",
     "output_type": "error",
     "traceback": [
      "\u001b[0;36m  File \u001b[0;32m\"<ipython-input-30-23e3ae795238>\"\u001b[0;36m, line \u001b[0;32m21\u001b[0m\n\u001b[0;31m    else region_dict[location] = [tweet_id]\u001b[0m\n\u001b[0m                   ^\u001b[0m\n\u001b[0;31mSyntaxError\u001b[0m\u001b[0;31m:\u001b[0m invalid syntax\n"
     ]
    }
   ],
   "source": [
    "#request variables and loop\n",
    "url = \"https://api.twitter.com/1.1/search/tweets.json\"\n",
    "lang = \"eu\"\n",
    "result_type = \"mixed\"\n",
    "count = \"10\"\n",
    "\n",
    "#region_dict = {\"canada\";[23456,98765], \"usa\": [67889]}\n",
    "\n",
    "for i in location_list:\n",
    "    location = i[\"region\"]\n",
    "    try:\n",
    "        location_search = api.GetSearch(f\"wildfire news {location}\"), \n",
    "        print(f\"Processing {location}\")\n",
    "        for tweet in location_search[0]:\n",
    "            print(tweet.id)\n",
    "            tweet_id = tweet.id\n",
    "            \n",
    "            if location in region_dict:\n",
    "                region_dict[location].append(tweet_id)\n",
    "                \n",
    "            else region_dict[location] = [tweet_id]\n",
    "                \n",
    "            \n",
    "        #print(location_search[0])\n",
    "    except:\n",
    "        print(f\"{location} not found. Skipping...\")\n",
    "    continue\n",
    "\n",
    "#location_tweet_embed = api.GetStatusOembed(f\"status_id={}\"\")"
   ]
  },
  {
   "cell_type": "code",
   "execution_count": 11,
   "metadata": {},
   "outputs": [
    {
     "name": "stdout",
     "output_type": "stream",
     "text": [
      "{'url': 'https://twitter.com/browe46/status/1226846606856740865', 'author_name': '@SouthEastAsia46', 'author_url': 'https://twitter.com/browe46', 'html': '<blockquote class=\"twitter-tweet\"><p lang=\"en\" dir=\"ltr\">Torrential rain douses massive Australian bush fire, triggers flash floods <a href=\"https://t.co/yT9G0GrIpm\">https://t.co/yT9G0GrIpm</a></p>&mdash; @SouthEastAsia46 (@browe46) <a href=\"https://twitter.com/browe46/status/1226846606856740865?ref_src=twsrc%5Etfw\">February 10, 2020</a></blockquote>\\n<script async src=\"https://platform.twitter.com/widgets.js\" charset=\"utf-8\"></script>\\n', 'width': 550, 'height': None, 'type': 'rich', 'cache_age': '3153600000', 'provider_name': 'Twitter', 'provider_url': 'https://twitter.com', 'version': '1.0'}\n"
     ]
    }
   ],
   "source": [
    "#oembed with single call as sample\n",
    "\n",
    "tweet_embed = api.GetStatusOembed(status_id=1226846606856740865,  url=None, maxwidth=None, hide_media=False, hide_thread=False, omit_script=False, align=None, related=None, lang=None)\n",
    "print(tweet_embed)"
   ]
  },
  {
   "cell_type": "code",
   "execution_count": null,
   "metadata": {},
   "outputs": [],
   "source": [
    "#oembed with list of calls\n",
    "\n"
   ]
  },
  {
   "cell_type": "code",
   "execution_count": null,
   "metadata": {},
   "outputs": [],
   "source": []
  }
 ],
 "metadata": {
  "kernelspec": {
   "display_name": "Python 3",
   "language": "python",
   "name": "python3"
  },
  "language_info": {
   "codemirror_mode": {
    "name": "ipython",
    "version": 3
   },
   "file_extension": ".py",
   "mimetype": "text/x-python",
   "name": "python",
   "nbconvert_exporter": "python",
   "pygments_lexer": "ipython3",
   "version": "3.7.3"
  }
 },
 "nbformat": 4,
 "nbformat_minor": 2
}
