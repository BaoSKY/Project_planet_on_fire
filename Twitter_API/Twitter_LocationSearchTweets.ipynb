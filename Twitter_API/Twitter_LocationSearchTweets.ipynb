{
 "cells": [
  {
   "cell_type": "code",
   "execution_count": 1,
   "metadata": {},
   "outputs": [],
   "source": [
    "#import dependencies\n",
    "\n",
    "import requests\n",
    "import json\n",
    "import twitter\n",
    "from config import consumer_key, consumer_secret, access_token, access_token_secret"
   ]
  },
  {
   "cell_type": "code",
   "execution_count": 2,
   "metadata": {},
   "outputs": [
    {
     "name": "stdout",
     "output_type": "stream",
     "text": [
      "{\"created_at\": \"Sun Jun 14 19:52:12 +0000 2015\", \"favourites_count\": 52, \"followers_count\": 40, \"friends_count\": 436, \"id\": 3245361546, \"id_str\": \"3245361546\", \"name\": \"Yash\", \"profile_background_color\": \"FFF04D\", \"profile_background_image_url\": \"http://abs.twimg.com/images/themes/theme19/bg.gif\", \"profile_background_image_url_https\": \"https://abs.twimg.com/images/themes/theme19/bg.gif\", \"profile_banner_url\": \"https://pbs.twimg.com/profile_banners/3245361546/1438476124\", \"profile_image_url\": \"http://pbs.twimg.com/profile_images/627640311397896192/z-LLRSlc_normal.jpg\", \"profile_image_url_https\": \"https://pbs.twimg.com/profile_images/627640311397896192/z-LLRSlc_normal.jpg\", \"profile_link_color\": \"0099CC\", \"profile_sidebar_border_color\": \"FFF8AD\", \"profile_sidebar_fill_color\": \"F6FFD1\", \"profile_text_color\": \"333333\", \"profile_use_background_image\": true, \"screen_name\": \"yashwinie\", \"status\": {\"created_at\": \"Tue Jan 15 23:40:59 +0000 2019\", \"favorite_count\": 1, \"id\": 1085320973841182721, \"id_str\": \"1085320973841182721\", \"in_reply_to_screen_name\": \"agalbraith\", \"in_reply_to_status_id\": 1083475003612561408, \"in_reply_to_user_id\": 16092272, \"lang\": \"und\", \"source\": \"<a href=\\\"http://twitter.com/download/iphone\\\" rel=\\\"nofollow\\\">Twitter for iPhone</a>\", \"text\": \"@agalbraith !!!\"}, \"statuses_count\": 15}\n"
     ]
    }
   ],
   "source": [
    "#authenticate with Twitter\n",
    "\n",
    "api = twitter.Api(consumer_key='iFU0UAXonvu3Mj96SnFX4SWz9',\n",
    "  consumer_secret='cQWhnX7y8b8TnjiRbZ9KPpFlrrw18ZGkjQeICPHRFoUkiiyn7Q',\n",
    "  access_token_key='3245361546-e1NtWlJUAoodH9lIs59oV4wooPy6vhZXYq3LcO8',\n",
    "  access_token_secret='6LtrCsiK4gRpE9TVUhnNumHwMI83THcY7Djn5jBEYhgXV')\n",
    "\n",
    "    #check authentication\n",
    "print(api.VerifyCredentials())"
   ]
  },
  {
   "cell_type": "code",
   "execution_count": 5,
   "metadata": {},
   "outputs": [],
   "source": [
    "##ASK FOR DAMI'S HELP HERE##\n",
    "\n",
    "#code_code=(f'consumer_key={consumer_key}',\n",
    "#           f'consumer_secret={consumer_secret}',\n",
    "#           f'access_token_key={access_token}',\n",
    "#           f'access_token_secret={access_token_secret}')\n",
    "#api = twitter.Api(f'consumer_key={consumer_key}',\n",
    "#           f'consumer_secret={consumer_secret}',\n",
    "#           f'access_token_key={access_token}',\n",
    "#           f'access_token_secret={access_token_secret}')\n",
    "\n",
    "#print(code_code)\n",
    "#print(api.VerifyCredentials())"
   ]
  },
  {
   "cell_type": "code",
   "execution_count": 3,
   "metadata": {},
   "outputs": [
    {
     "name": "stdout",
     "output_type": "stream",
     "text": [
      "1226204133646127106 Emails reveal that the Trump administration manipulated wildfire science to promote logging https://t.co/s7UQCNAt70\n",
      "1226300753679134723 The photo spread like wildfire on social media. https://t.co/YN7bMD9oml\n",
      "1226235519014752256 A viral post spread like wildfire around Toronto last month alleging a man groped a young woman on the TTC. After a… https://t.co/lZCHnsa6Hd\n",
      "1226636651415339013 RT @LyveRaffle: AWP | Wildfire (BS) - GIVEAWAY 🔥🎁\n",
      "\n",
      "To enter:\n",
      "- Follow @LyveRaffle + @Valor2s\n",
      "- Tag 2 Giveaway Hunters\n",
      "- Retweet\n",
      "\n",
      "3 days - G…\n",
      "1226636609140985857 RT @LyveRaffle: AWP | Wildfire (BS) - GIVEAWAY 🔥🎁\n",
      "\n",
      "To enter:\n",
      "- Follow @LyveRaffle + @Valor2s\n",
      "- Tag 2 Giveaway Hunters\n",
      "- Retweet\n",
      "\n",
      "3 days - G…\n",
      "1226636503134199809 RT @sfd15_: Count on your main wildfire can’t handle your flame https://t.co/3RKXagGsVF\n",
      "1226636486633828352 RT @flashyflashycom: 🔥 24H GIVEAWAY !!! 🎁 AWP Wildfire !\n",
      "\n",
      "To win:\n",
      "🔻 Visit to support us: https://t.co/Fonu6EuBpu\n",
      "🔻 Visit for more raffles:…\n",
      "1226636417989775360 RT @LucyTrumplican: Heavy rain in Australia extinguishes major wildfire, causes flash flooding | Fox News https://t.co/7izKsvJ6tv\n",
      "1226636163877920772 Jim &amp; Jesse &amp; the Virginia Boys — Going Like Wildfire: right now on @whusradio\n",
      "1226636151408283650 RT @Gailmike101: Rain extinguishes Australian wildfire and causes flooding - ABC News - https://t.co/u9gwPkfcvw via @ABC\n",
      "1226636129128132608 RT @YtZlashy: 🎁AWP | Wildfire FT (60€)🎁 #CSGOGiveaway \n",
      "\n",
      "To win:\n",
      "✅Retweet + Follow Me &amp; @Harklint420 \n",
      "✅Like &amp; Comment: https://t.co/ZVgsT06Y…\n",
      "1226635925825830912 RT @kerryblaisdell1: SO excited to share my story in Vol.3 of #AustraliaBurns, anthology to benefit @AustralianRedCr! #Preorder NOW from WR…\n",
      "1226635686868062214 RT @LyveRaffle: AWP | Wildfire (BS) - GIVEAWAY 🔥🎁\n",
      "\n",
      "To enter:\n",
      "- Follow @LyveRaffle + @Valor2s\n",
      "- Tag 2 Giveaway Hunters\n",
      "- Retweet\n",
      "\n",
      "3 days - G…\n",
      "1226635665405882368 RT @sfd15_: Count on your main wildfire can’t handle your flame https://t.co/3RKXagGsVF\n",
      "1226635646166609920 RT @LindaGriffinA: #Australia #Anthology I have a short story in vol. 2 of this wonderful anthology of donated stories. All proceeds go to…\n"
     ]
    }
   ],
   "source": [
    "#sample search\n",
    "\n",
    "search = api.GetSearch(\"wildfire\")\n",
    "for tweet in search:\n",
    "    print(tweet.id, tweet.text)"
   ]
  },
  {
   "cell_type": "code",
   "execution_count": 8,
   "metadata": {},
   "outputs": [
    {
     "name": "stdout",
     "output_type": "stream",
     "text": [
      "Australia hit by ‘life-threatening’ flash-flooding, bushfires and a cyclone in same day https://t.co/FoSvWmf8qu\n",
      "Heavy downpours have brought relief to wildfire-ravaged parts of Australia - reducing the number of current blazes… https://t.co/4n6f4iEvi8\n",
      "Three koalas rescued during Australia's wildfire crisis have been named for American firefighters who were tragical… https://t.co/JkdSeYKjM7\n",
      "RT @LucyTrumplican: Heavy rain in Australia extinguishes major wildfire, causes flash flooding | Fox News https://t.co/7izKsvJ6tv\n",
      "RT @raybae689: Australia hit by 'life-threatening' flash-flooding, bushfires and a cyclone in same day https://t.co/7rQBUtFcXO https://t.co…\n",
      "RT @docvanmol: Heavy rain in Australia extinguishes major wildfire, causes flash flooding | Fox News https://t.co/Kh2j2bIyAL\n",
      "RT @raybae689: Australia hit by 'life-threatening' flash-flooding, bushfires and a cyclone in same day https://t.co/7rQBUtFcXO https://t.co…\n",
      "RT @jaljr: Good news better than the bad news?\n",
      "Heavy rain in Australia extinguishes major wildfire, causes flash flooding https://t.co/iitW…\n",
      "RT @LucyTrumplican: Heavy rain in Australia extinguishes major wildfire, causes flash flooding | Fox News https://t.co/7izKsvJ6tv\n",
      "RT @LucyTrumplican: Heavy rain in Australia extinguishes major wildfire, causes flash flooding | Fox News https://t.co/7izKsvJ6tv\n",
      "RT @LucyTrumplican: Heavy rain in Australia extinguishes major wildfire, causes flash flooding | Fox News https://t.co/7izKsvJ6tv\n",
      "RT @LucyTrumplican: Heavy rain in Australia extinguishes major wildfire, causes flash flooding | Fox News https://t.co/7izKsvJ6tv\n",
      "Heavy rain in Australia extinguishes major wildfire, causes flash flooding https://t.co/07wTncoKYF\n",
      "RT @jaljr: Good news better than the bad news?\n",
      "Heavy rain in Australia extinguishes major wildfire, causes flash flooding https://t.co/iitW…\n",
      "RT @jaljr: Good news better than the bad news?\n",
      "Heavy rain in Australia extinguishes major wildfire, causes flash flooding https://t.co/iitW…\n"
     ]
    }
   ],
   "source": [
    "#sample build customized collection search without location list input\n",
    "\n",
    "news_search = api.GetSearch(\"news wildfire Australia\")\n",
    "\n",
    "#print(news_search)\n",
    "\n",
    "for tweet in news_search:\n",
    "    print(tweet.text)"
   ]
  },
  {
   "cell_type": "code",
   "execution_count": 19,
   "metadata": {},
   "outputs": [
    {
     "name": "stdout",
     "output_type": "stream",
     "text": [
      "Anchorage\n"
     ]
    }
   ],
   "source": [
    "#dictionary of relevant locations\n",
    "\n",
    "###CHANGE LOCATION LIST TO CITIES AROUND THE GLOBE WITH FOREST FIRES\n",
    "\n",
    "location_list = [\n",
    "    {\"city\": \"Anchorage\", \"lat\": 61.22, \"lon\": -149.86, \"twitter_search\": \"\"},\n",
    "    {\"city\": \"Vancouver\", \"lat\": 49.25, \"lon\": -123.12, \"twitter_search\": \"\"},\n",
    "    {\"city\": \"Ottawa\", \"lat\": 45.41, \"lon\": -75.70, \"twitter_search\": \"\"},\n",
    "    {\"city\": \"Paris\", \"lat\": 48.85, \"lon\": 2.35, \"twitter_search\": \"\"},\n",
    "    {\"city\": \"Moscow\", \"lat\": 55.75, \"lon\": 37.62, \"twitter_search\": \"\"}, \n",
    "    {\"city\": \"Bangui\", \"lat\": 4.36, \"lon\": 18.56, \"twitter_search\": \"\"},\n",
    "    {\"city\": \"Gaborne\", \"lat\": -24.66, \"lon\": 25.91, \"twitter_search\": \"\"},\n",
    "    {\"city\": \"Delhi\", \"lat\": 28.65, \"lon\": 77.23, \"twitter_search\": \"\"},\n",
    "    {\"city\": \"Chongqing\", \"lat\": 29.56, \"lon\": 106.55, \"twitter_search\": \"\"},\n",
    "    {\"city\": \"Malibu\", \"lat\": 34.01, \"lon\": -118.81, \"twitter_search\": \"\"},\n",
    "    {\"city\": \"Arlington\", \"lat\": 38.89, \"lon\": -77.08, \"twitter_search\": \"\"}\n",
    "]\n",
    "\n",
    "#print(location_list[0][\"city\"])"
   ]
  },
  {
   "cell_type": "markdown",
   "metadata": {},
   "source": [
    "Twitter API call\n",
    "* API will be triggered from user input/click from dropdown on homepage"
   ]
  },
  {
   "cell_type": "code",
   "execution_count": 20,
   "metadata": {},
   "outputs": [],
   "source": [
    "##SAMPLE PULL TO TEST THAT API WORKS\n",
    "\n",
    "#request variables\n",
    "url = \"https://api.twitter.com/1.1/search/tweets.json\"\n",
    "lang = \"eu\"\n",
    "result_type = \"mixed\"\n",
    "count = \"10\"\n",
    "location = \"\"\n",
    "\n",
    "#build query url\n",
    "#api.GetSearch(\n",
    "    #raw_query=\"q=twitter%20&result_type=recent&since=2014-07-19&count=100\")\n",
    "\n",
    "#https://twitter.com/search?q=South%20Wales%20(wildfire%20OR%20forest%20OR%20fire%20OR%20bush%20OR%20fire)&src=typed_query\n",
    "\n",
    "\n",
    "#f\"{url}?q={search_terms}&lang={lang}&result_type={result_type}&count={count}\""
   ]
  },
  {
   "cell_type": "code",
   "execution_count": null,
   "metadata": {},
   "outputs": [],
   "source": []
  }
 ],
 "metadata": {
  "kernelspec": {
   "display_name": "Python 3",
   "language": "python",
   "name": "python3"
  },
  "language_info": {
   "codemirror_mode": {
    "name": "ipython",
    "version": 3
   },
   "file_extension": ".py",
   "mimetype": "text/x-python",
   "name": "python",
   "nbconvert_exporter": "python",
   "pygments_lexer": "ipython3",
   "version": "3.7.3"
  }
 },
 "nbformat": 4,
 "nbformat_minor": 2
}
