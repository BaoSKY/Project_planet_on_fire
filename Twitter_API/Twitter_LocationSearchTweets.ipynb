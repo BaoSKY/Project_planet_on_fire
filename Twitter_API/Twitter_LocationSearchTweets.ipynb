{
 "cells": [
  {
   "cell_type": "code",
   "execution_count": 1,
   "metadata": {},
   "outputs": [],
   "source": [
    "#import dependencies\n",
    "\n",
    "import requests\n",
    "import json\n",
    "import twitter\n",
    "from config import consumer_key, consumer_secret, access_token, access_token_secret"
   ]
  },
  {
   "cell_type": "code",
   "execution_count": 13,
   "metadata": {},
   "outputs": [],
   "source": [
    "#dictionary of relevant locations\n",
    "\n",
    "###CHANGE LOCATION LIST TO CITIES AROUND THE GLOBE WITH FOREST FIRES\n",
    "\n",
    "location_list = [\n",
    "    {\"region\": \"Anchorage\", \"lat\": 61.22, \"lon\": -149.86},\n",
    "    {\"region\": \"Vancouver\", \"lat\": 49.25, \"lon\": -123.12},\n",
    "    {\"region\": \"Ottawa\", \"lat\": 45.41, \"lon\": -75.70},\n",
    "    {\"region\": \"Paris\", \"lat\": 48.85, \"lon\": 2.35},\n",
    "    {\"region\": \"Moscow\", \"lat\": 55.75, \"lon\": 37.62}, \n",
    "    {\"region\": \"Bangui\", \"lat\": 4.36, \"lon\": 18.56},\n",
    "    {\"region\": \"Gaborne\", \"lat\": -24.66, \"lon\": 25.91},\n",
    "    {\"region\": \"Delhi\", \"lat\": 28.65, \"lon\": 77.23},\n",
    "    {\"region\": \"Chongqing\", \"lat\": 29.56, \"lon\": 106.55},\n",
    "    {\"region\": \"Malibu\", \"lat\": 34.01, \"lon\": -118.81},\n",
    "    {\"region\": \"Arlington\", \"lat\": 38.89, \"lon\": -77.08}\n",
    "]\n",
    "\n",
    "#print(location_list[0][\"city\"])"
   ]
  },
  {
   "cell_type": "code",
   "execution_count": 14,
   "metadata": {},
   "outputs": [
    {
     "name": "stdout",
     "output_type": "stream",
     "text": [
      "{\"created_at\": \"Sun Jun 14 19:52:12 +0000 2015\", \"favourites_count\": 52, \"followers_count\": 40, \"friends_count\": 436, \"id\": 3245361546, \"id_str\": \"3245361546\", \"name\": \"Yash\", \"profile_background_color\": \"FFF04D\", \"profile_background_image_url\": \"http://abs.twimg.com/images/themes/theme19/bg.gif\", \"profile_background_image_url_https\": \"https://abs.twimg.com/images/themes/theme19/bg.gif\", \"profile_banner_url\": \"https://pbs.twimg.com/profile_banners/3245361546/1438476124\", \"profile_image_url\": \"http://pbs.twimg.com/profile_images/627640311397896192/z-LLRSlc_normal.jpg\", \"profile_image_url_https\": \"https://pbs.twimg.com/profile_images/627640311397896192/z-LLRSlc_normal.jpg\", \"profile_link_color\": \"0099CC\", \"profile_sidebar_border_color\": \"FFF8AD\", \"profile_sidebar_fill_color\": \"F6FFD1\", \"profile_text_color\": \"333333\", \"profile_use_background_image\": true, \"screen_name\": \"yashwinie\", \"status\": {\"created_at\": \"Tue Jan 15 23:40:59 +0000 2019\", \"favorite_count\": 1, \"id\": 1085320973841182721, \"id_str\": \"1085320973841182721\", \"in_reply_to_screen_name\": \"agalbraith\", \"in_reply_to_status_id\": 1083475003612561408, \"in_reply_to_user_id\": 16092272, \"lang\": \"und\", \"source\": \"<a href=\\\"http://twitter.com/download/iphone\\\" rel=\\\"nofollow\\\">Twitter for iPhone</a>\", \"text\": \"@agalbraith !!!\"}, \"statuses_count\": 15}\n"
     ]
    }
   ],
   "source": [
    "#authenticate with Twitter\n",
    "\n",
    "api = twitter.Api(consumer_key='iFU0UAXonvu3Mj96SnFX4SWz9',\n",
    "  consumer_secret='cQWhnX7y8b8TnjiRbZ9KPpFlrrw18ZGkjQeICPHRFoUkiiyn7Q',\n",
    "  access_token_key='3245361546-e1NtWlJUAoodH9lIs59oV4wooPy6vhZXYq3LcO8',\n",
    "  access_token_secret='6LtrCsiK4gRpE9TVUhnNumHwMI83THcY7Djn5jBEYhgXV')\n",
    "\n",
    "    #check authentication\n",
    "print(api.VerifyCredentials())"
   ]
  },
  {
   "cell_type": "code",
   "execution_count": 4,
   "metadata": {},
   "outputs": [],
   "source": [
    "##ASK FOR DAMI'S HELP HERE##\n",
    "\n",
    "#code_code=(f'consumer_key={consumer_key}',\n",
    "#           f'consumer_secret={consumer_secret}',\n",
    "#           f'access_token_key={access_token}',\n",
    "#           f'access_token_secret={access_token_secret}')\n",
    "#api = twitter.Api(f'consumer_key={consumer_key}',\n",
    "#           f'consumer_secret={consumer_secret}',\n",
    "#           f'access_token_key={access_token}',\n",
    "#           f'access_token_secret={access_token_secret}')\n",
    "\n",
    "#print(code_code)\n",
    "#print(api.VerifyCredentials())"
   ]
  },
  {
   "cell_type": "code",
   "execution_count": 16,
   "metadata": {},
   "outputs": [
    {
     "name": "stdout",
     "output_type": "stream",
     "text": [
      "1224692955505725441 Australian parliament suspended to mourn 'black summer' as 100 wildfires continue to burn https://t.co/dwD2VL0xPU\n",
      "1226539975891652608 RT @DKICanada: Heavy rains lashed parts of the wildfire and drought-stricken Australian east coast on Friday, bringing some flooding in Syd…\n",
      "1226536369872343041 Heavy rains lashed parts of the wildfire and drought-stricken Australian east coast on Friday, bringing some floodi… https://t.co/iVnrOPT6Hi\n",
      "1226524906877157376 Heavy rains lashed parts of the wildfire and drought-stricken Australian east coast on Friday, bringing some floodi… https://t.co/CC1QgHT28B\n",
      "1226199009846550529 Heavy rains lashed parts of the wildfire and drought-stricken Australian east coast on Friday, bringing some floodi… https://t.co/Q3k73VacFC\n",
      "1226120418404323328 RT @standardnews: Heavy rainfall brings wildfire relief and flooding to Australia https://t.co/6PyRqB6ovB\n",
      "1226000405387022336 RT @NewsHour: Heavy rains lashed parts of the wildfire and drought-stricken Australian east coast on Friday, bringing some flooding in Sydn…\n",
      "1225954008277254144 Good to hear:\n",
      "https://t.co/x3dvN2l9Iy\n",
      "But this is just a temporary reprieve. If the original source of climate chan… https://t.co/wl6TcuX8fF\n",
      "1225935410028630016 RT @NewsHour: Heavy rains lashed parts of the wildfire and drought-stricken Australian east coast on Friday, bringing some flooding in Sydn…\n",
      "1225932503644377088 Heavy rains lashed parts of the wildfire and drought-stricken Australian east coast on Friday, bringing some floodi… https://t.co/AYHJFMUWAW\n",
      "1225859325693964288 RT @EveningStandard: Heavy rainfall brings wildfire relief and flooding to Australia https://t.co/G5103NpfDq\n",
      "1225848140689006592 RT @wildfire_craig: Lovely sunny day today in the South Wales valleys which unfortunately meant we had a deliberately ignited wildfire appr…\n",
      "1225829548673118210 RT @standardnews: Heavy rainfall brings wildfire relief and flooding to Australia https://t.co/6PyRqB6ovB\n",
      "1225828882928021505 RT @standardnews: Heavy rainfall brings wildfire relief and flooding to Australia https://t.co/6PyRqB6ovB\n",
      "1225828146261512192 RT @standardnews: Heavy rainfall brings wildfire relief and flooding to Australia https://t.co/6PyRqB6ovB\n"
     ]
    }
   ],
   "source": [
    "#sample search\n",
    "\n",
    "search = api.GetSearch(\"wildfire South Wales\")\n",
    "for tweet in search:\n",
    "    print(tweet.id, tweet.text)"
   ]
  },
  {
   "cell_type": "code",
   "execution_count": 25,
   "metadata": {},
   "outputs": [
    {
     "name": "stdout",
     "output_type": "stream",
     "text": [
      "Processing Anchorage\n",
      "Processing Vancouver\n",
      "Processing Ottawa\n",
      "Processing Paris\n",
      "Processing Moscow\n",
      "Processing Bangui\n",
      "Processing Gaborne\n",
      "Processing Delhi\n",
      "Processing Chongqing\n",
      "Processing Malibu\n",
      "Processing Arlington\n"
     ]
    }
   ],
   "source": [
    "#request variables\n",
    "url = \"https://api.twitter.com/1.1/search/tweets.json\"\n",
    "lang = \"eu\"\n",
    "result_type = \"mixed\"\n",
    "count = \"10\"\n",
    "\n",
    "for i in location_list:\n",
    "    location = i[\"region\"]\n",
    "    try:\n",
    "        search = api.GetSearch(f\"wildfire {location}\")\n",
    "        print(f\"Processing {location}\")\n",
    "        n=+1\n",
    "    except:\n",
    "        print(f\"{location} not found. Skipping...\")\n",
    "    continue"
   ]
  },
  {
   "cell_type": "code",
   "execution_count": 19,
   "metadata": {},
   "outputs": [],
   "source": []
  },
  {
   "cell_type": "code",
   "execution_count": null,
   "metadata": {},
   "outputs": [],
   "source": []
  },
  {
   "cell_type": "code",
   "execution_count": null,
   "metadata": {},
   "outputs": [],
   "source": []
  }
 ],
 "metadata": {
  "kernelspec": {
   "display_name": "Python 3",
   "language": "python",
   "name": "python3"
  },
  "language_info": {
   "codemirror_mode": {
    "name": "ipython",
    "version": 3
   },
   "file_extension": ".py",
   "mimetype": "text/x-python",
   "name": "python",
   "nbconvert_exporter": "python",
   "pygments_lexer": "ipython3",
   "version": "3.7.3"
  }
 },
 "nbformat": 4,
 "nbformat_minor": 2
}
