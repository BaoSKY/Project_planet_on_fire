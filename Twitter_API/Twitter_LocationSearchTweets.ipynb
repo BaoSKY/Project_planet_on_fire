{
 "cells": [
  {
   "cell_type": "code",
   "execution_count": 17,
   "metadata": {},
   "outputs": [
    {
     "name": "stdout",
     "output_type": "stream",
     "text": [
      "iFU0UAXonvu3Mj96SnFX4SWz9\n"
     ]
    }
   ],
   "source": [
    "#import dependencies\n",
    "\n",
    "import requests\n",
    "import json\n",
    "import twitter\n",
    "from config import consumer_key, consumer_secret, access_token, access_token_secret\n",
    "\n",
    "print(consumer_key)"
   ]
  },
  {
   "cell_type": "code",
   "execution_count": 18,
   "metadata": {},
   "outputs": [
    {
     "name": "stdout",
     "output_type": "stream",
     "text": [
      "{\"created_at\": \"Sun Jun 14 19:52:12 +0000 2015\", \"favourites_count\": 52, \"followers_count\": 40, \"friends_count\": 436, \"id\": 3245361546, \"id_str\": \"3245361546\", \"name\": \"Yash\", \"profile_background_color\": \"FFF04D\", \"profile_background_image_url\": \"http://abs.twimg.com/images/themes/theme19/bg.gif\", \"profile_background_image_url_https\": \"https://abs.twimg.com/images/themes/theme19/bg.gif\", \"profile_banner_url\": \"https://pbs.twimg.com/profile_banners/3245361546/1438476124\", \"profile_image_url\": \"http://pbs.twimg.com/profile_images/627640311397896192/z-LLRSlc_normal.jpg\", \"profile_image_url_https\": \"https://pbs.twimg.com/profile_images/627640311397896192/z-LLRSlc_normal.jpg\", \"profile_link_color\": \"0099CC\", \"profile_sidebar_border_color\": \"FFF8AD\", \"profile_sidebar_fill_color\": \"F6FFD1\", \"profile_text_color\": \"333333\", \"profile_use_background_image\": true, \"screen_name\": \"yashwinie\", \"status\": {\"created_at\": \"Tue Jan 15 23:40:59 +0000 2019\", \"favorite_count\": 1, \"id\": 1085320973841182721, \"id_str\": \"1085320973841182721\", \"in_reply_to_screen_name\": \"agalbraith\", \"in_reply_to_status_id\": 1083475003612561408, \"in_reply_to_user_id\": 16092272, \"lang\": \"und\", \"source\": \"<a href=\\\"http://twitter.com/download/iphone\\\" rel=\\\"nofollow\\\">Twitter for iPhone</a>\", \"text\": \"@agalbraith !!!\"}, \"statuses_count\": 15}\n"
     ]
    }
   ],
   "source": [
    "#authenticate with Twitter\n",
    "\n",
    "api = twitter.Api(consumer_key='iFU0UAXonvu3Mj96SnFX4SWz9',\n",
    "  consumer_secret='cQWhnX7y8b8TnjiRbZ9KPpFlrrw18ZGkjQeICPHRFoUkiiyn7Q',\n",
    "  access_token_key='3245361546-e1NtWlJUAoodH9lIs59oV4wooPy6vhZXYq3LcO8',\n",
    "  access_token_secret='6LtrCsiK4gRpE9TVUhnNumHwMI83THcY7Djn5jBEYhgXV')\n",
    "\n",
    "    #check authentication\n",
    "print(api.VerifyCredentials())"
   ]
  },
  {
   "cell_type": "code",
   "execution_count": 19,
   "metadata": {},
   "outputs": [],
   "source": [
    "#code_code=(f'consumer_key={consumer_key}',\n",
    "#           f'consumer_secret={consumer_secret}',\n",
    "#           f'access_token_key={access_token}',\n",
    "#           f'access_token_secret={access_token_secret}')\n",
    "#api = twitter.Api(f'consumer_key={consumer_key}',\n",
    "#           f'consumer_secret={consumer_secret}',\n",
    "#           f'access_token_key={access_token}',\n",
    "#           f'access_token_secret={access_token_secret}')\n",
    "\n",
    "#print(code_code)\n",
    "#print(api.VerifyCredentials())"
   ]
  },
  {
   "cell_type": "code",
   "execution_count": 20,
   "metadata": {},
   "outputs": [
    {
     "name": "stdout",
     "output_type": "stream",
     "text": [
      "1226204133646127106 Emails reveal that the Trump administration manipulated wildfire science to promote logging https://t.co/s7UQCNAt70\n",
      "1226300753679134723 The photo spread like wildfire on social media. https://t.co/YN7bMD9oml\n",
      "1226235519014752256 A viral post spread like wildfire around Toronto last month alleging a man groped a young woman on the TTC. After a… https://t.co/lZCHnsa6Hd\n",
      "1226572352210731009 Also, parents: RSV and Adenoid virus is spreading like wildfire. Monitor your children’s behaviors &amp; their temperat… https://t.co/CgxtWX4rpG\n",
      "1226572331994222597 RT @Sakpo007: Afrobeats is spreading like wildfire across the world and I'm glad you're also getting along well with the Genre. \n",
      " \n",
      "Those ar…\n",
      "1226572303821156352 RT @Sakpo007: Afrobeats is spreading like wildfire across the world and I'm glad you're also getting along well with the Genre. \n",
      " \n",
      "Those ar…\n",
      "1226572167531433984 O melhor dobrador de água q vc respeita https://t.co/p76jN7byci\n",
      "1226572125332549635 RT @Sakpo007: Afrobeats is spreading like wildfire across the world and I'm glad you're also getting along well with the Genre. \n",
      " \n",
      "Those ar…\n",
      "1226572114662060034 RT @Western_Values: It's pretty simple: “Instead of addressing the reality and science of a warming planet creating larger and more devasta…\n",
      "1226572073595736069 @mthsmnds AI CARALHO, TU AINDA TEM O VÍDEO AAAA\n",
      "SDDS KKKKKK\n",
      "1226572000828608515 RT @LucyTrumplican: Heavy rain in Australia extinguishes major wildfire, causes flash flooding | Fox News https://t.co/7izKsvJ6tv\n",
      "1226571990682787840 RT @Sakpo007: Afrobeats is spreading like wildfire across the world and I'm glad you're also getting along well with the Genre. \n",
      " \n",
      "Those ar…\n",
      "1226571919249596432 RT @LyveRaffle: AWP | Wildfire (BS) - GIVEAWAY 🔥🎁\n",
      "\n",
      "To enter:\n",
      "- Follow @LyveRaffle + @Valor2s\n",
      "- Tag 2 Giveaway Hunters\n",
      "- Retweet\n",
      "\n",
      "3 days - G…\n",
      "1226571774428680197 RT @TXForestService: Texas A&amp;M Forest Service provides nationally accredited wildfire and emergency management training throughout Texas to…\n",
      "1226571686176264192 RT @LyveRaffle: AWP | Wildfire (BS) - GIVEAWAY 🔥🎁\n",
      "\n",
      "To enter:\n",
      "- Follow @LyveRaffle + @Valor2s\n",
      "- Tag 2 Giveaway Hunters\n",
      "- Retweet\n",
      "\n",
      "3 days - G…\n"
     ]
    }
   ],
   "source": [
    "#sample search\n",
    "\n",
    "search = api.GetSearch(\"wildfire\")\n",
    "for tweet in search:\n",
    "    print(tweet.id, tweet.text)"
   ]
  },
  {
   "cell_type": "code",
   "execution_count": 31,
   "metadata": {},
   "outputs": [
    {
     "name": "stdout",
     "output_type": "stream",
     "text": [
      "[Status(ID=1226536355980771329, ScreenName=Independent, Created=Sun Feb 09 16:00:29 +0000 2020, Text='Australia hit by ‘life-threatening’ flash-flooding, bushfires and a cyclone in same day https://t.co/FoSvWmf8qu'), Status(ID=1225706730119745536, ScreenName=SkyNews, Created=Fri Feb 07 09:03:51 +0000 2020, Text='Heavy downpours have brought relief to wildfire-ravaged parts of Australia - reducing the number of current blazes… https://t.co/4n6f4iEvi8'), Status(ID=1223719625961029633, ScreenName=stevesilberman, Created=Sat Feb 01 21:27:49 +0000 2020, Text='This is amazing: 67-year-old potter survives Australian wildfire by crawling inside his kiln. https://t.co/TaDCTkwGKl'), Status(ID=1226572000828608515, ScreenName=LucyTrumplican, Created=Sun Feb 09 18:22:08 +0000 2020, Text='RT @LucyTrumplican: Heavy rain in Australia extinguishes major wildfire, causes flash flooding | Fox News https://t.co/7izKsvJ6tv'), Status(ID=1226571657600471043, ScreenName=theonegenegreen, Created=Sun Feb 09 18:20:46 +0000 2020, Text='RT @LucyTrumplican: Heavy rain in Australia extinguishes major wildfire, causes flash flooding | Fox News https://t.co/7izKsvJ6tv'), Status(ID=1226570935194521601, ScreenName=FF411, Created=Sun Feb 09 18:17:54 +0000 2020, Text='RT @jaljr: Good news better than the bad news?\\nHeavy rain in Australia extinguishes major wildfire, causes flash flooding https://t.co/iitW…'), Status(ID=1226570775383044096, ScreenName=SunnyArizona1, Created=Sun Feb 09 18:17:16 +0000 2020, Text='RT @LucyTrumplican: Heavy rain in Australia extinguishes major wildfire, causes flash flooding | Fox News https://t.co/7izKsvJ6tv'), Status(ID=1226570561498816512, ScreenName=KathleenParr8, Created=Sun Feb 09 18:16:25 +0000 2020, Text='RT @LucyTrumplican: Heavy rain in Australia extinguishes major wildfire, causes flash flooding | Fox News https://t.co/7izKsvJ6tv'), Status(ID=1226570499234390018, ScreenName=Sue952, Created=Sun Feb 09 18:16:10 +0000 2020, Text='RT @LucyTrumplican: Heavy rain in Australia extinguishes major wildfire, causes flash flooding | Fox News https://t.co/7izKsvJ6tv'), Status(ID=1226569539636232192, ScreenName=LucyTrumplican, Created=Sun Feb 09 18:12:21 +0000 2020, Text='Heavy rain in Australia extinguishes major wildfire, causes flash flooding | Fox News https://t.co/7izKsvJ6tv'), Status(ID=1226564447461834754, ScreenName=g_wilikers, Created=Sun Feb 09 17:52:07 +0000 2020, Text=\"RT @raybae689: Australia hit by 'life-threatening' flash-flooding, bushfires and a cyclone in same day https://t.co/7rQBUtFcXO https://t.co…\"), Status(ID=1226564370798243840, ScreenName=annier100, Created=Sun Feb 09 17:51:49 +0000 2020, Text='RT @jaljr: Good news better than the bad news?\\nHeavy rain in Australia extinguishes major wildfire, causes flash flooding https://t.co/iitW…'), Status(ID=1226563783981764608, ScreenName=raybae689, Created=Sun Feb 09 17:49:29 +0000 2020, Text=\"RT @raybae689: Australia hit by 'life-threatening' flash-flooding, bushfires and a cyclone in same day https://t.co/7rQBUtFcXO https://t.co…\"), Status(ID=1226561756723580928, ScreenName=Mutchy2U, Created=Sun Feb 09 17:41:25 +0000 2020, Text='RT @jaljr: Good news better than the bad news?\\nHeavy rain in Australia extinguishes major wildfire, causes flash flooding https://t.co/iitW…'), Status(ID=1226558380803682305, ScreenName=docvanmol, Created=Sun Feb 09 17:28:00 +0000 2020, Text='Heavy rain in Australia extinguishes major wildfire, causes flash flooding | Fox News https://t.co/Kh2j2bIyAL')]\n"
     ]
    }
   ],
   "source": [
    "#sample build customized collection search without location list input\n",
    "\n",
    "news_search = api.GetSearch(\"news wildfire Australia\")\n",
    "\n",
    "print(news_search)"
   ]
  },
  {
   "cell_type": "code",
   "execution_count": 20,
   "metadata": {},
   "outputs": [],
   "source": [
    "#dictionary of relevant locations\n",
    "\n",
    "location_list = [\n",
    "    {\"city\": \"Anchorage\", \"lat\": 61.22, \"lon\": -149.86},\n",
    "    {\"city\": \"Vancouver\", \"lat\": 49.25, \"lon\": -123.12},\n",
    "    {\"city\": \"Ottawa\", \"lat\": 45.41, \"lon\": -75.70},\n",
    "    {\"city\": \"Paris\", \"lat\": 48.85, \"lon\": 2.35},\n",
    "    {\"city\": \"Moscow\", \"lat\": 55.75, \"lon\": 37.62}, \n",
    "    {\"city\": \"Bangui\", \"lat\": 4.36, \"lon\": 18.56},\n",
    "    {\"city\": \"Gaborne\", \"lat\": -24.66, \"lon\": 25.91},\n",
    "    {\"city\": \"Delhi\", \"lat\": 28.65, \"lon\": 77.23},\n",
    "    {\"city\": \"Chongqing\", \"lat\": 29.56, \"lon\": 106.55},\n",
    "    {\"city\": \"Malibu\", \"lat\": 34.01, \"lon\": -118.81},\n",
    "    {\"city\": \"Arlington\", \"lat\": 38.89, \"lon\": -77.08}\n",
    "]"
   ]
  },
  {
   "cell_type": "markdown",
   "metadata": {},
   "source": [
    "Twitter API call\n",
    "* API will be triggered from user input/click from dropdown on homepage"
   ]
  },
  {
   "cell_type": "code",
   "execution_count": 21,
   "metadata": {},
   "outputs": [
    {
     "name": "stdout",
     "output_type": "stream",
     "text": [
      "https://api.twitter.com/1.1/search/tweets.json?q=%23wildfire%20%23SouthWales&lang=eu&result_type=mixed&count=10\n"
     ]
    }
   ],
   "source": [
    "###SAMPLE PULL TO TEST THAT API WORKS\n",
    "\n",
    "#request variables\n",
    "url = \"https://api.twitter.com/1.1/search/tweets.json\"\n",
    "search_terms = \"%23wildfire%20%23SouthWales\"\n",
    "lang = \"eu\"\n",
    "result_type = \"mixed\"\n",
    "count = \"10\"\n",
    "\n",
    "#build query url\n",
    "query_url = f\"{url}?q={search_terms}&lang={lang}&result_type={result_type}&count={count}\"\n",
    "print(query_url)"
   ]
  },
  {
   "cell_type": "code",
   "execution_count": null,
   "metadata": {},
   "outputs": [],
   "source": []
  }
 ],
 "metadata": {
  "kernelspec": {
   "display_name": "Python 3",
   "language": "python",
   "name": "python3"
  },
  "language_info": {
   "codemirror_mode": {
    "name": "ipython",
    "version": 3
   },
   "file_extension": ".py",
   "mimetype": "text/x-python",
   "name": "python",
   "nbconvert_exporter": "python",
   "pygments_lexer": "ipython3",
   "version": "3.7.3"
  }
 },
 "nbformat": 4,
 "nbformat_minor": 2
}
