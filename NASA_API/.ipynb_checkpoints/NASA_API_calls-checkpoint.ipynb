{
 "cells": [
  {
   "cell_type": "code",
   "execution_count": 36,
   "metadata": {},
   "outputs": [],
   "source": [
    "#import dependencies\n",
    "import requests\n",
    "import time\n",
    "import pandas as pd\n",
    "from config import nkey\n",
    "import json"
   ]
  },
  {
   "cell_type": "code",
   "execution_count": 110,
   "metadata": {},
   "outputs": [],
   "source": [
    "#dictionary of locations of tooltips on homepage map\n",
    "\n",
    "location_dict = [\n",
    "    {\"city\": \"Anchorage\", \"lat\": 61.22, \"lon\": -149.86},\n",
    "    {\"city\": \"Vancouver\", \"lat\": 49.25, \"lon\": -123.12},\n",
    "    {\"city\": \"Ottawa\", \"lat\": 45.41, \"lon\": -75.70},\n",
    "    {\"city\": \"Paris\", \"lat\": 48.85, \"lon\": 2.35},\n",
    "    {\"city\": \"Moscow\", \"lat\": 55.75, \"lon\": 37.62},\n",
    "    {\"city\": \"Bangui\", \"lat\": 4.36, \"lon\": 18.56},\n",
    "    {\"city\": \"Gaborne\", \"lat\": -24.66, \"lon\": 25.91},\n",
    "    {\"city\": \"Delhi\", \"lat\": 28.65, \"lon\": 77.23},\n",
    "    {\"city\": \"Chongqing\", \"lat\": 29.56, \"lon\": 106.55},\n",
    "    {\"city\": \"Malibu\", \"lat\": 34.01, \"lon\": -118.81},\n",
    "    {\"city\": \"Arlington\", \"lat\": 38.89, \"lon\": -77.08}\n",
    "]"
   ]
  },
  {
   "cell_type": "markdown",
   "metadata": {},
   "source": [
    "NASA Earth Images API Call\n",
    "* API needs to read from user click (javascript?)\n",
    "* images will be placed in tooltip of country area (i.e. the central point of the zoom coordinates)"
   ]
  },
  {
   "cell_type": "code",
   "execution_count": 111,
   "metadata": {},
   "outputs": [],
   "source": [
    "#request variables\n",
    "#url=\"https://api.nasa.gov/planetary/earth/imagery\"\n",
    "#city = \"Anchorage\"\n",
    "#long = \"-149.86\"\n",
    "#lat = \"61.22\"\n",
    "\n",
    "#build query url \n",
    "#query_url = f\"{url}?lon={long}&lat={lat}&api_key={nkey}\"\n",
    "\n",
    "#print(query_url)"
   ]
  },
  {
   "cell_type": "code",
   "execution_count": 112,
   "metadata": {},
   "outputs": [],
   "source": [
    "#retrieve image url for Anchorage, Alaska\n",
    "#image = requests.get(query_url).json()\n",
    "\n",
    "#print(image)"
   ]
  },
  {
   "cell_type": "markdown",
   "metadata": {},
   "source": [
    "NASA Images API Call\n",
    "* API needs to read from user click (javascript?)\n",
    "* images will in the further information page"
   ]
  },
  {
   "cell_type": "code",
   "execution_count": 135,
   "metadata": {},
   "outputs": [
    {
     "name": "stdout",
     "output_type": "stream",
     "text": [
      "61.22\n"
     ]
    }
   ],
   "source": [
    "#request variables fir Anchorage (test pull)\n",
    "url=\"https://images-api.nasa.gov/search\"\n",
    "city=location_dict[0]['city']\n",
    "lat=location_dict[0]['lat']\n",
    "lon=location_dict[0]['lon']\n",
    "media_type=\"image\"\n",
    "\n",
    "print(lat)"
   ]
  },
  {
   "cell_type": "code",
   "execution_count": 139,
   "metadata": {},
   "outputs": [],
   "source": [
    "#build uery url\n",
    "query_url = f\"{url}?q={city}&media_type={media_type}\"\n",
    "\n",
    "#retrive image url for Anchorage, Alaska\n",
    "image = requests.get(query_url).json()\n",
    "city_image = image[\"collection\"][\"items\"][0][\"links\"][0][\"href\"]"
   ]
  },
  {
   "cell_type": "code",
   "execution_count": 140,
   "metadata": {},
   "outputs": [
    {
     "name": "stdout",
     "output_type": "stream",
     "text": [
      "https://images-assets.nasa.gov/image/KSC-20180122-PH-SWW01_0005/KSC-20180122-PH-SWW01_0005~thumb.jpg\n"
     ]
    }
   ],
   "source": [
    "print(city_image)"
   ]
  },
  {
   "cell_type": "code",
   "execution_count": null,
   "metadata": {},
   "outputs": [],
   "source": [
    "#'if statement' or 'for loop' for custom api call with click on map goes here"
   ]
  }
 ],
 "metadata": {
  "kernelspec": {
   "display_name": "Python 3",
   "language": "python",
   "name": "python3"
  },
  "language_info": {
   "codemirror_mode": {
    "name": "ipython",
    "version": 3
   },
   "file_extension": ".py",
   "mimetype": "text/x-python",
   "name": "python",
   "nbconvert_exporter": "python",
   "pygments_lexer": "ipython3",
   "version": "3.7.3"
  }
 },
 "nbformat": 4,
 "nbformat_minor": 2
}
