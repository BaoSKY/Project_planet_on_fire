{
 "cells": [
  {
   "cell_type": "code",
   "execution_count": 2,
   "metadata": {},
   "outputs": [],
   "source": [
    "#import dependencies\n",
    "import requests\n",
    "import time\n",
    "import pandas as pd\n",
    "from config import nkey\n",
    "import json"
   ]
  },
  {
   "cell_type": "code",
   "execution_count": 3,
   "metadata": {},
   "outputs": [],
   "source": [
    "#dictionary of locations of tooltips on homepage map\n",
    "\n",
    "location_list = [\n",
    "    {\"region\": \"Brazil\", \"lat\": -14.23, \"lon\": -51.92},\n",
    "    {\"region\": \"Canada\", \"lat\": 50.67, \"lon\": -120.34},\n",
    "    {\"region\": \"Spain\", \"lat\": 41.11, \"lon\": 1.24},\n",
    "    {\"region\": \"USA\", \"lat\": 34.05, \"lon\": -118.24},\n",
    "    {\"region\": \"Australia\", \"lat\": -31.84, \"lon\": 145.61},\n",
    "    {\"region\": \"New Zealand\", \"lat\": -38.05, \"lon\": 175.43},\n",
    "    {\"region\": \"Congo\", \"lat\": -4.51, \"lon\": 15.53},\n",
    "    {\"region\": \"Indonesia\", \"lat\": -6.17, \"lon\": 106.82},\n",
    "    {\"region\": \"Russia\", \"lat\": 61.01, \"lon\": 99.19},\n",
    "    {\"region\": \"Lebanon\", \"lat\": 33.88, \"lon\": 35.49}\n",
    "]"
   ]
  },
  {
   "cell_type": "markdown",
   "metadata": {},
   "source": [
    "NASA Earth Images API Call\n",
    "* API needs to read from user click (javascript?)\n",
    "* images will be placed in tooltip of country area (i.e. the central point of the zoom coordinates)"
   ]
  },
  {
   "cell_type": "code",
   "execution_count": 3,
   "metadata": {},
   "outputs": [],
   "source": [
    "#request variables\n",
    "#url=\"https://api.nasa.gov/planetary/earth/imagery/\"\n",
    "#city = \"Anchorage\"\n",
    "#lon = \"-149.86\"\n",
    "#lat = \"61.22\"\n",
    "\n",
    "#build query url \n",
    "#query_url = f\"{url}?lon={lon}&lat={lat}&api_key={nkey}\"\n",
    "\n",
    "#print(query_url)"
   ]
  },
  {
   "cell_type": "code",
   "execution_count": 4,
   "metadata": {},
   "outputs": [],
   "source": [
    "#retrieve image url for Anchorage, Alaska\n",
    "#image = requests.get(query_url).json()\n",
    "\n",
    "#print(image)"
   ]
  },
  {
   "cell_type": "markdown",
   "metadata": {},
   "source": [
    "NASA Images API Call\n",
    "* API needs to read from user click (javascript?)\n",
    "* images will in the further information page"
   ]
  },
  {
   "cell_type": "code",
   "execution_count": 4,
   "metadata": {},
   "outputs": [
    {
     "name": "stdout",
     "output_type": "stream",
     "text": [
      "https://images-assets.nasa.gov/image/PIA13045/PIA13045~thumb.jpg\n"
     ]
    }
   ],
   "source": [
    "###SAMPLE PULL TO TEST THAT API WORKS\n",
    "\n",
    "#request variables\n",
    "url=\"https://images-api.nasa.gov/search\"\n",
    "region=location_list[0]['region'] #can put in 0 for just Anchorage, but i is for loops (having trouble with using i)\n",
    "lat=location_list[0]['lat']\n",
    "lon=location_list[0]['lon']\n",
    "media_type=\"image\"\n",
    "\n",
    "#build query url\n",
    "query_url = f\"{url}?q={region}&media_type={media_type}\"\n",
    "\n",
    "#retrive image url\n",
    "region_url = requests.get(query_url).json()\n",
    "regionimage_url = region_url[\"collection\"][\"items\"][0][\"links\"][0][\"href\"]\n",
    "\n",
    "\n",
    "#print(cityimage_url)\n",
    "print(regionimage_url)"
   ]
  },
  {
   "cell_type": "code",
   "execution_count": 18,
   "metadata": {},
   "outputs": [
    {
     "name": "stdout",
     "output_type": "stream",
     "text": [
      "Processing Anchorage\n",
      "Anchorage image url: https://images-assets.nasa.gov/image/KSC-20180122-PH-SWW01_0005/KSC-20180122-PH-SWW01_0005~thumb.jpg\n",
      "Processing Vancouver\n",
      "Vancouver image url: https://images-assets.nasa.gov/image/PIA12838/PIA12838~thumb.jpg\n",
      "Processing Ottawa\n",
      "Ottawa image url: https://images-assets.nasa.gov/image/sl2-05-380/sl2-05-380~thumb.jpg\n",
      "Processing Paris\n",
      "Paris image url: https://images-assets.nasa.gov/image/PIA11168/PIA11168~thumb.jpg\n",
      "Processing Moscow\n",
      "Moscow image url: https://images-assets.nasa.gov/image/PIA16988/PIA16988~thumb.jpg\n",
      "Processing Bangui\n",
      "Bangui not found. Skipping...\n",
      "Processing Gaborne\n",
      "Gaborne not found. Skipping...\n",
      "Processing Delhi\n",
      "Delhi image url: https://images-assets.nasa.gov/image/PIA21100/PIA21100~thumb.jpg\n",
      "Processing Chongqing\n",
      "Chongqing not found. Skipping...\n",
      "Processing Malibu\n",
      "Malibu image url: https://images-assets.nasa.gov/image/GSFC_20171208_Archive_e001491/GSFC_20171208_Archive_e001491~thumb.jpg\n",
      "Processing Arlington\n",
      "Arlington image url: https://images-assets.nasa.gov/image/NHQ201709120119/NHQ201709120119~thumb.jpg\n"
     ]
    }
   ],
   "source": [
    "#loop through items in list to gather image urls\n",
    "\n",
    "for each_dict in location_list:\n",
    "    region_name = each_dict['region']\n",
    "    try:\n",
    "        response=requests.get(f\"{url}?q={region_name}&media_type={media_type}\").json()\n",
    "        \n",
    "        print(f\"Processing {region_name}\")\n",
    "        regionimage_url=response[\"collection\"][\"items\"][0][\"links\"][0][\"href\"]\n",
    "        print(f\"{region_name} image url: {regionimage_url}\")\n",
    "        \n",
    "        n=+1\n",
    "        \n",
    "    except:\n",
    "        print(f\"{region_name} not found. Skipping...\")\n",
    "    continue\n",
    "\n",
    "#print(\"-------------\")\n",
    "#print(\"Data Retrieval Complete\")"
   ]
  },
  {
   "cell_type": "code",
   "execution_count": null,
   "metadata": {},
   "outputs": [],
   "source": []
  },
  {
   "cell_type": "code",
   "execution_count": null,
   "metadata": {},
   "outputs": [],
   "source": []
  },
  {
   "cell_type": "code",
   "execution_count": null,
   "metadata": {},
   "outputs": [],
   "source": []
  },
  {
   "cell_type": "code",
   "execution_count": null,
   "metadata": {},
   "outputs": [],
   "source": []
  },
  {
   "cell_type": "code",
   "execution_count": null,
   "metadata": {},
   "outputs": [],
   "source": []
  }
 ],
 "metadata": {
  "kernelspec": {
   "display_name": "Python 3",
   "language": "python",
   "name": "python3"
  },
  "language_info": {
   "codemirror_mode": {
    "name": "ipython",
    "version": 3
   },
   "file_extension": ".py",
   "mimetype": "text/x-python",
   "name": "python",
   "nbconvert_exporter": "python",
   "pygments_lexer": "ipython3",
   "version": "3.7.3"
  }
 },
 "nbformat": 4,
 "nbformat_minor": 2
}
