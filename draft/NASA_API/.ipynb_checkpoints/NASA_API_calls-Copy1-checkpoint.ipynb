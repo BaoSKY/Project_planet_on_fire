{
 "cells": [
  {
   "cell_type": "code",
   "execution_count": 3,
   "metadata": {},
   "outputs": [],
   "source": [
    "#import dependencies\n",
    "import requests\n",
    "import time\n",
    "import pandas as pd\n",
    "from config import nkey\n",
    "import json"
   ]
  },
  {
   "cell_type": "code",
   "execution_count": 4,
   "metadata": {},
   "outputs": [],
   "source": [
    "#dictionary of locations of tooltips on homepage map\n",
    "\n",
    "location_list = [\n",
    "    {\"city\": \"Anchorage\", \"lat\": 61.22, \"lon\": -149.86},\n",
    "    {\"city\": \"Vancouver\", \"lat\": 49.25, \"lon\": -123.12},\n",
    "    {\"city\": \"Ottawa\", \"lat\": 45.41, \"lon\": -75.70},\n",
    "    {\"city\": \"Paris\", \"lat\": 48.85, \"lon\": 2.35},\n",
    "    {\"city\": \"Moscow\", \"lat\": 55.75, \"lon\": 37.62},\n",
    "    {\"city\": \"Bangui\", \"lat\": 4.36, \"lon\": 18.56},\n",
    "    {\"city\": \"Gaborne\", \"lat\": -24.66, \"lon\": 25.91},\n",
    "    {\"city\": \"Delhi\", \"lat\": 28.65, \"lon\": 77.23},\n",
    "    {\"city\": \"Chongqing\", \"lat\": 29.56, \"lon\": 106.55},\n",
    "    {\"city\": \"Malibu\", \"lat\": 34.01, \"lon\": -118.81},\n",
    "    {\"city\": \"Arlington\", \"lat\": 38.89, \"lon\": -77.08}\n",
    "]"
   ]
  },
  {
   "cell_type": "markdown",
   "metadata": {},
   "source": [
    "NASA Earth Images API Call\n",
    "* API needs to read from user click (javascript?)\n",
    "* images will be placed in tooltip of country area (i.e. the central point of the zoom coordinates)"
   ]
  },
  {
   "cell_type": "code",
   "execution_count": 5,
   "metadata": {},
   "outputs": [],
   "source": [
    "#request variables\n",
    "#url=\"https://api.nasa.gov/planetary/earth/imagery/\"\n",
    "#city = \"Anchorage\"\n",
    "#lon = \"-149.86\"\n",
    "#lat = \"61.22\"\n",
    "\n",
    "#build query url \n",
    "#query_url = f\"{url}?lon={lon}&lat={lat}&api_key={nkey}\"\n",
    "\n",
    "#print(query_url)"
   ]
  },
  {
   "cell_type": "code",
   "execution_count": 6,
   "metadata": {},
   "outputs": [],
   "source": [
    "#retrieve image url for Anchorage, Alaska\n",
    "#image = requests.get(query_url).json()\n",
    "\n",
    "#print(image)"
   ]
  },
  {
   "cell_type": "markdown",
   "metadata": {},
   "source": [
    "NASA Images API Call\n",
    "* API needs to read from user click (javascript?)\n",
    "* images will in the further information page"
   ]
  },
  {
   "cell_type": "code",
   "execution_count": 13,
   "metadata": {},
   "outputs": [
    {
     "name": "stdout",
     "output_type": "stream",
     "text": [
      "https://images-assets.nasa.gov/image/KSC-20180122-PH-SWW01_0005/KSC-20180122-PH-SWW01_0005~thumb.jpg\n"
     ]
    }
   ],
   "source": [
    "###SAMPLE PULL TO TEST THAT API WORKS\n",
    "\n",
    "#request variables\n",
    "url=\"https://images-api.nasa.gov/search\"\n",
    "city=location_list[0]['city'] #can put in 0 for just Anchorage, but i is for loops (having trouble with using i)\n",
    "lat=location_list[0]['lat']\n",
    "lon=location_list[0]['lon']\n",
    "media_type=\"image\"\n",
    "\n",
    "#build query url\n",
    "query_url = f\"{url}?q={city}&media_type={media_type}\"\n",
    "\n",
    "#retrive image url\n",
    "city_url = requests.get(query_url).json()\n",
    "cityimage_url = city_url[\"collection\"][\"items\"][0][\"links\"][0][\"href\"]\n",
    "\n",
    "\n",
    "#print(cityimage_url)\n",
    "print(cityimage_url)"
   ]
  },
  {
   "cell_type": "code",
   "execution_count": 31,
   "metadata": {},
   "outputs": [
    {
     "name": "stdout",
     "output_type": "stream",
     "text": [
      "Anchorage\n",
      "Vancouver\n",
      "Ottawa\n",
      "Paris\n",
      "Moscow\n",
      "Bangui\n",
      "Gaborne\n",
      "Delhi\n",
      "Chongqing\n",
      "Malibu\n",
      "Arlington\n"
     ]
    }
   ],
   "source": [
    "#loop through items in list to gather image urls\n",
    "\n",
    "for each_dict in location_list:\n",
    "    region_name = each_dict['city']\n",
    "    print(region_name)\n",
    "\n",
    "#for i in location_list:\n",
    "    #try:\n",
    "     #   response=requests.get(f\"{url}?q={city}&media_type={media_type}\").json()\n",
    "      #  \n",
    "       # region_image=response[\"collection\"][\"items\"][0][\"links\"][0][\"href\"]\n",
    "        #print(f\"Processing Record {i}\")\n",
    "        #\n",
    "       # i=+1\n",
    "    \n",
    "        #except:\n",
    "         #     print(\"City not found. Skipping...\")\n",
    "        #continue"
   ]
  },
  {
   "cell_type": "code",
   "execution_count": null,
   "metadata": {},
   "outputs": [],
   "source": []
  },
  {
   "cell_type": "code",
   "execution_count": null,
   "metadata": {},
   "outputs": [],
   "source": []
  },
  {
   "cell_type": "code",
   "execution_count": null,
   "metadata": {},
   "outputs": [],
   "source": []
  },
  {
   "cell_type": "code",
   "execution_count": null,
   "metadata": {},
   "outputs": [],
   "source": []
  },
  {
   "cell_type": "code",
   "execution_count": null,
   "metadata": {},
   "outputs": [],
   "source": []
  }
 ],
 "metadata": {
  "kernelspec": {
   "display_name": "Python 3",
   "language": "python",
   "name": "python3"
  },
  "language_info": {
   "codemirror_mode": {
    "name": "ipython",
    "version": 3
   },
   "file_extension": ".py",
   "mimetype": "text/x-python",
   "name": "python",
   "nbconvert_exporter": "python",
   "pygments_lexer": "ipython3",
   "version": "3.7.3"
  }
 },
 "nbformat": 4,
 "nbformat_minor": 2
}
