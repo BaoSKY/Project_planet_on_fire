{
 "cells": [
  {
   "cell_type": "code",
   "execution_count": 1,
   "metadata": {},
   "outputs": [],
   "source": [
    "import json\n",
    "import pymongo\n",
    "\n",
    "# Setup connection to mongodb\n",
    "conn = \"mongodb://localhost:27017\"\n",
    "client = pymongo.MongoClient(conn)\n",
    "\n",
    "# Select database and collection to use\n",
    "db = client.fire\n",
    "collection = db.northamerica\n"
   ]
  },
  {
   "cell_type": "code",
   "execution_count": 2,
   "metadata": {},
   "outputs": [],
   "source": [
    "\n",
    "with open('historical_data/AandB.json') as f:\n",
    "    file_data = json.load(f)\n",
    "    collection.insert_many(file_data)\n",
    "    client.close()"
   ]
  },
  {
   "cell_type": "code",
   "execution_count": 3,
   "metadata": {},
   "outputs": [],
   "source": [
    "\n",
    "with open('aruba.json') as f:\n",
    "    file_data = json.load(f)\n",
    "    collection.insert_many(file_data)\n",
    "    client.close()"
   ]
  },
  {
   "cell_type": "code",
   "execution_count": 4,
   "metadata": {},
   "outputs": [],
   "source": [
    "\n",
    "with open('bahamas.json') as f:\n",
    "    file_data = json.load(f)\n",
    "    collection.insert_many(file_data)\n",
    "    client.close()"
   ]
  },
  {
   "cell_type": "code",
   "execution_count": 5,
   "metadata": {},
   "outputs": [],
   "source": [
    "\n",
    "with open('barbados.json') as f:\n",
    "    file_data = json.load(f)\n",
    "    collection.insert_many(file_data)\n",
    "    client.close()"
   ]
  },
  {
   "cell_type": "code",
   "execution_count": 6,
   "metadata": {},
   "outputs": [],
   "source": [
    "\n",
    "with open('belize.json') as f:\n",
    "    file_data = json.load(f)\n",
    "    collection.insert_many(file_data)\n",
    "    client.close()"
   ]
  },
  {
   "cell_type": "code",
   "execution_count": 7,
   "metadata": {},
   "outputs": [],
   "source": [
    "\n",
    "with open('bermuda.json') as f:\n",
    "    file_data = json.load(f)\n",
    "    collection.insert_many(file_data)\n",
    "    client.close()"
   ]
  },
  {
   "cell_type": "code",
   "execution_count": 8,
   "metadata": {},
   "outputs": [],
   "source": [
    "\n",
    "with open('britishvirgin.json') as f:\n",
    "    file_data = json.load(f)\n",
    "    collection.insert_many(file_data)\n",
    "    client.close()"
   ]
  },
  {
   "cell_type": "code",
   "execution_count": 9,
   "metadata": {},
   "outputs": [],
   "source": [
    "\n",
    "with open('canada.json') as f:\n",
    "    file_data = json.load(f)\n",
    "    collection.insert_many(file_data)\n",
    "    client.close()"
   ]
  },
  {
   "cell_type": "code",
   "execution_count": 10,
   "metadata": {},
   "outputs": [],
   "source": [
    "\n",
    "with open('caymanislands.json') as f:\n",
    "    file_data = json.load(f)\n",
    "    collection.insert_many(file_data)\n",
    "    client.close()"
   ]
  },
  {
   "cell_type": "code",
   "execution_count": 11,
   "metadata": {},
   "outputs": [],
   "source": [
    "\n",
    "with open('costarica.json') as f:\n",
    "    file_data = json.load(f)\n",
    "    collection.insert_many(file_data)\n",
    "    client.close()"
   ]
  },
  {
   "cell_type": "code",
   "execution_count": 12,
   "metadata": {},
   "outputs": [],
   "source": [
    "\n",
    "with open('cuba.json') as f:\n",
    "    file_data = json.load(f)\n",
    "    collection.insert_many(file_data)\n",
    "    client.close()"
   ]
  },
  {
   "cell_type": "code",
   "execution_count": 13,
   "metadata": {},
   "outputs": [],
   "source": [
    "\n",
    "with open('curacao.json') as f:\n",
    "    file_data = json.load(f)\n",
    "    collection.insert_many(file_data)\n",
    "    client.close()"
   ]
  },
  {
   "cell_type": "code",
   "execution_count": 14,
   "metadata": {},
   "outputs": [],
   "source": [
    "\n",
    "with open('dominica.json') as f:\n",
    "    file_data = json.load(f)\n",
    "    collection.insert_many(file_data)\n",
    "    client.close()"
   ]
  },
  {
   "cell_type": "code",
   "execution_count": 15,
   "metadata": {},
   "outputs": [],
   "source": [
    "\n",
    "with open('dominicanrepublic.json') as f:\n",
    "    file_data = json.load(f)\n",
    "    collection.insert_many(file_data)\n",
    "    client.close()"
   ]
  },
  {
   "cell_type": "code",
   "execution_count": 16,
   "metadata": {},
   "outputs": [],
   "source": [
    "\n",
    "with open('elsalvador.json') as f:\n",
    "    file_data = json.load(f)\n",
    "    collection.insert_many(file_data)\n",
    "    client.close()"
   ]
  },
  {
   "cell_type": "code",
   "execution_count": 17,
   "metadata": {},
   "outputs": [],
   "source": [
    "\n",
    "with open('greenland.json') as f:\n",
    "    file_data = json.load(f)\n",
    "    collection.insert_many(file_data)\n",
    "    client.close()"
   ]
  },
  {
   "cell_type": "code",
   "execution_count": 18,
   "metadata": {},
   "outputs": [],
   "source": [
    "\n",
    "with open('grenada.json') as f:\n",
    "    file_data = json.load(f)\n",
    "    collection.insert_many(file_data)\n",
    "    client.close()"
   ]
  },
  {
   "cell_type": "code",
   "execution_count": 19,
   "metadata": {},
   "outputs": [],
   "source": [
    "\n",
    "with open('guadeloupe.json') as f:\n",
    "    file_data = json.load(f)\n",
    "    collection.insert_many(file_data)\n",
    "    client.close()"
   ]
  },
  {
   "cell_type": "code",
   "execution_count": 20,
   "metadata": {},
   "outputs": [],
   "source": [
    "\n",
    "with open('guatemala.json') as f:\n",
    "    file_data = json.load(f)\n",
    "    collection.insert_many(file_data)\n",
    "    client.close()"
   ]
  },
  {
   "cell_type": "code",
   "execution_count": 21,
   "metadata": {},
   "outputs": [],
   "source": [
    "\n",
    "with open('haiti.json') as f:\n",
    "    file_data = json.load(f)\n",
    "    collection.insert_many(file_data)\n",
    "    client.close()"
   ]
  },
  {
   "cell_type": "code",
   "execution_count": 22,
   "metadata": {},
   "outputs": [],
   "source": [
    "\n",
    "with open('honduras.json') as f:\n",
    "    file_data = json.load(f)\n",
    "    collection.insert_many(file_data)\n",
    "    client.close()"
   ]
  },
  {
   "cell_type": "code",
   "execution_count": 23,
   "metadata": {},
   "outputs": [],
   "source": [
    "\n",
    "with open('jamaica.json') as f:\n",
    "    file_data = json.load(f)\n",
    "    collection.insert_many(file_data)\n",
    "    client.close()"
   ]
  },
  {
   "cell_type": "code",
   "execution_count": 24,
   "metadata": {},
   "outputs": [],
   "source": [
    "\n",
    "with open('martinique.json') as f:\n",
    "    file_data = json.load(f)\n",
    "    collection.insert_many(file_data)\n",
    "    client.close()"
   ]
  },
  {
   "cell_type": "code",
   "execution_count": 25,
   "metadata": {},
   "outputs": [],
   "source": [
    "\n",
    "with open('mexico.json') as f:\n",
    "    file_data = json.load(f)\n",
    "    collection.insert_many(file_data)\n",
    "    client.close()"
   ]
  },
  {
   "cell_type": "code",
   "execution_count": 26,
   "metadata": {},
   "outputs": [],
   "source": [
    "\n",
    "with open('monserrat.json') as f:\n",
    "    file_data = json.load(f)\n",
    "    collection.insert_many(file_data)\n",
    "    client.close()"
   ]
  },
  {
   "cell_type": "code",
   "execution_count": 27,
   "metadata": {},
   "outputs": [],
   "source": [
    "\n",
    "with open('nicaragua.json') as f:\n",
    "    file_data = json.load(f)\n",
    "    collection.insert_many(file_data)\n",
    "    client.close()"
   ]
  },
  {
   "cell_type": "code",
   "execution_count": 28,
   "metadata": {},
   "outputs": [],
   "source": [
    "\n",
    "with open('panama.json') as f:\n",
    "    file_data = json.load(f)\n",
    "    collection.insert_many(file_data)\n",
    "    client.close()"
   ]
  },
  {
   "cell_type": "code",
   "execution_count": 29,
   "metadata": {},
   "outputs": [],
   "source": [
    "\n",
    "with open('puertorico.json') as f:\n",
    "    file_data = json.load(f)\n",
    "    collection.insert_many(file_data)\n",
    "    client.close()"
   ]
  },
  {
   "cell_type": "code",
   "execution_count": 30,
   "metadata": {},
   "outputs": [],
   "source": [
    "\n",
    "with open('saintkittsandnevis.json') as f:\n",
    "    file_data = json.load(f)\n",
    "    collection.insert_many(file_data)\n",
    "    client.close()"
   ]
  },
  {
   "cell_type": "code",
   "execution_count": 31,
   "metadata": {},
   "outputs": [],
   "source": [
    "\n",
    "with open('saintmartin.json') as f:\n",
    "    file_data = json.load(f)\n",
    "    collection.insert_many(file_data)\n",
    "    client.close()"
   ]
  },
  {
   "cell_type": "code",
   "execution_count": 32,
   "metadata": {},
   "outputs": [],
   "source": [
    "\n",
    "with open('sintmaarten.json') as f:\n",
    "    file_data = json.load(f)\n",
    "    collection.insert_many(file_data)\n",
    "    client.close()"
   ]
  },
  {
   "cell_type": "code",
   "execution_count": 33,
   "metadata": {},
   "outputs": [],
   "source": [
    "\n",
    "with open('trinidadandtobago.json') as f:\n",
    "    file_data = json.load(f)\n",
    "    collection.insert_many(file_data)\n",
    "    client.close()"
   ]
  },
  {
   "cell_type": "code",
   "execution_count": 34,
   "metadata": {},
   "outputs": [],
   "source": [
    "\n",
    "with open('turkandcaicos.json') as f:\n",
    "    file_data = json.load(f)\n",
    "    collection.insert_many(file_data)\n",
    "    client.close()"
   ]
  },
  {
   "cell_type": "code",
   "execution_count": 35,
   "metadata": {},
   "outputs": [],
   "source": [
    "\n",
    "with open('usa.json') as f:\n",
    "    file_data = json.load(f)\n",
    "    collection.insert_many(file_data)\n",
    "    client.close()"
   ]
  },
  {
   "cell_type": "code",
   "execution_count": 36,
   "metadata": {},
   "outputs": [],
   "source": [
    "\n",
    "with open('usaminor.json') as f:\n",
    "    file_data = json.load(f)\n",
    "    collection.insert_many(file_data)\n",
    "    client.close()"
   ]
  },
  {
   "cell_type": "code",
   "execution_count": 37,
   "metadata": {},
   "outputs": [],
   "source": [
    "\n",
    "with open('usavirgin.json') as f:\n",
    "    file_data = json.load(f)\n",
    "    collection.insert_many(file_data)\n",
    "    client.close()"
   ]
  },
  {
   "cell_type": "code",
   "execution_count": null,
   "metadata": {},
   "outputs": [],
   "source": []
  },
  {
   "cell_type": "code",
   "execution_count": null,
   "metadata": {},
   "outputs": [],
   "source": []
  }
 ],
 "metadata": {
  "kernelspec": {
   "display_name": "Python 3",
   "language": "python",
   "name": "python3"
  },
  "language_info": {
   "codemirror_mode": {
    "name": "ipython",
    "version": 3
   },
   "file_extension": ".py",
   "mimetype": "text/x-python",
   "name": "python",
   "nbconvert_exporter": "python",
   "pygments_lexer": "ipython3",
   "version": "3.7.4"
  }
 },
 "nbformat": 4,
 "nbformat_minor": 2
}
