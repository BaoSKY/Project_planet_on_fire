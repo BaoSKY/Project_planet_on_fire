{
 "cells": [
  {
   "cell_type": "code",
   "execution_count": 3,
   "metadata": {},
   "outputs": [],
   "source": [
    "import json\n",
    "import pymongo\n",
    "\n",
    "# Setup connection to mongodb\n",
    "conn = \"mongodb://localhost:27017\"\n",
    "client = pymongo.MongoClient(conn)\n",
    "\n",
    "# Select database and collection to use\n",
    "db = client.fire\n",
    "collection = db.northamerica\n"
   ]
  },
  {
   "cell_type": "code",
   "execution_count": 4,
   "metadata": {},
   "outputs": [],
   "source": [
    "\n",
    "with open('historical_data/AandB.json') as f:\n",
    "    file_data = json.load(f)\n",
    "    collection.insert_many(file_data)\n",
    "    client.close()"
   ]
  },
  {
   "cell_type": "code",
   "execution_count": 6,
   "metadata": {},
   "outputs": [],
   "source": [
    "\n",
    "with open('historical_data/aruba.json') as f:\n",
    "    file_data = json.load(f)\n",
    "    collection.insert_many(file_data)\n",
    "    client.close()"
   ]
  },
  {
   "cell_type": "code",
   "execution_count": 7,
   "metadata": {},
   "outputs": [],
   "source": [
    "\n",
    "with open('historical_data/bahamas.json') as f:\n",
    "    file_data = json.load(f)\n",
    "    collection.insert_many(file_data)\n",
    "    client.close()"
   ]
  },
  {
   "cell_type": "code",
   "execution_count": 8,
   "metadata": {},
   "outputs": [],
   "source": [
    "\n",
    "with open('historical_data/barbados.json') as f:\n",
    "    file_data = json.load(f)\n",
    "    collection.insert_many(file_data)\n",
    "    client.close()"
   ]
  },
  {
   "cell_type": "code",
   "execution_count": 9,
   "metadata": {},
   "outputs": [],
   "source": [
    "\n",
    "with open('historical_data/belize.json') as f:\n",
    "    file_data = json.load(f)\n",
    "    collection.insert_many(file_data)\n",
    "    client.close()"
   ]
  },
  {
   "cell_type": "code",
   "execution_count": 10,
   "metadata": {},
   "outputs": [],
   "source": [
    "\n",
    "with open('historical_data/bermuda.json') as f:\n",
    "    file_data = json.load(f)\n",
    "    collection.insert_many(file_data)\n",
    "    client.close()"
   ]
  },
  {
   "cell_type": "code",
   "execution_count": 11,
   "metadata": {},
   "outputs": [],
   "source": [
    "\n",
    "with open('historical_data/britishvirgin.json') as f:\n",
    "    file_data = json.load(f)\n",
    "    collection.insert_many(file_data)\n",
    "    client.close()"
   ]
  },
  {
   "cell_type": "code",
   "execution_count": 12,
   "metadata": {},
   "outputs": [],
   "source": [
    "\n",
    "with open('historical_data/canada.json') as f:\n",
    "    file_data = json.load(f)\n",
    "    collection.insert_many(file_data)\n",
    "    client.close()"
   ]
  },
  {
   "cell_type": "code",
   "execution_count": 13,
   "metadata": {},
   "outputs": [],
   "source": [
    "\n",
    "with open('historical_data/caymanislands.json') as f:\n",
    "    file_data = json.load(f)\n",
    "    collection.insert_many(file_data)\n",
    "    client.close()"
   ]
  },
  {
   "cell_type": "code",
   "execution_count": 14,
   "metadata": {},
   "outputs": [],
   "source": [
    "\n",
    "with open('historical_data/costarica.json') as f:\n",
    "    file_data = json.load(f)\n",
    "    collection.insert_many(file_data)\n",
    "    client.close()"
   ]
  },
  {
   "cell_type": "code",
   "execution_count": 15,
   "metadata": {},
   "outputs": [],
   "source": [
    "\n",
    "with open('historical_data/cuba.json') as f:\n",
    "    file_data = json.load(f)\n",
    "    collection.insert_many(file_data)\n",
    "    client.close()"
   ]
  },
  {
   "cell_type": "code",
   "execution_count": 16,
   "metadata": {},
   "outputs": [],
   "source": [
    "\n",
    "with open('historical_data/curacao.json') as f:\n",
    "    file_data = json.load(f)\n",
    "    collection.insert_many(file_data)\n",
    "    client.close()"
   ]
  },
  {
   "cell_type": "code",
   "execution_count": 17,
   "metadata": {},
   "outputs": [],
   "source": [
    "\n",
    "with open('historical_data/dominica.json') as f:\n",
    "    file_data = json.load(f)\n",
    "    collection.insert_many(file_data)\n",
    "    client.close()"
   ]
  },
  {
   "cell_type": "code",
   "execution_count": 18,
   "metadata": {},
   "outputs": [],
   "source": [
    "\n",
    "with open('historical_data/dominicanrepublic.json') as f:\n",
    "    file_data = json.load(f)\n",
    "    collection.insert_many(file_data)\n",
    "    client.close()"
   ]
  },
  {
   "cell_type": "code",
   "execution_count": 19,
   "metadata": {},
   "outputs": [],
   "source": [
    "\n",
    "with open('historical_data/elsalvador.json') as f:\n",
    "    file_data = json.load(f)\n",
    "    collection.insert_many(file_data)\n",
    "    client.close()"
   ]
  },
  {
   "cell_type": "code",
   "execution_count": 20,
   "metadata": {},
   "outputs": [],
   "source": [
    "\n",
    "with open('historical_data/greenland.json') as f:\n",
    "    file_data = json.load(f)\n",
    "    collection.insert_many(file_data)\n",
    "    client.close()"
   ]
  },
  {
   "cell_type": "code",
   "execution_count": 21,
   "metadata": {},
   "outputs": [],
   "source": [
    "\n",
    "with open('historical_data/grenada.json') as f:\n",
    "    file_data = json.load(f)\n",
    "    collection.insert_many(file_data)\n",
    "    client.close()"
   ]
  },
  {
   "cell_type": "code",
   "execution_count": 22,
   "metadata": {},
   "outputs": [],
   "source": [
    "\n",
    "with open('historical_data/guadeloupe.json') as f:\n",
    "    file_data = json.load(f)\n",
    "    collection.insert_many(file_data)\n",
    "    client.close()"
   ]
  },
  {
   "cell_type": "code",
   "execution_count": 23,
   "metadata": {},
   "outputs": [],
   "source": [
    "\n",
    "with open('historical_data/guatemala.json') as f:\n",
    "    file_data = json.load(f)\n",
    "    collection.insert_many(file_data)\n",
    "    client.close()"
   ]
  },
  {
   "cell_type": "code",
   "execution_count": 24,
   "metadata": {},
   "outputs": [],
   "source": [
    "\n",
    "with open('historical_data/haiti.json') as f:\n",
    "    file_data = json.load(f)\n",
    "    collection.insert_many(file_data)\n",
    "    client.close()"
   ]
  },
  {
   "cell_type": "code",
   "execution_count": 25,
   "metadata": {},
   "outputs": [],
   "source": [
    "\n",
    "with open('historical_data/honduras.json') as f:\n",
    "    file_data = json.load(f)\n",
    "    collection.insert_many(file_data)\n",
    "    client.close()"
   ]
  },
  {
   "cell_type": "code",
   "execution_count": 26,
   "metadata": {},
   "outputs": [],
   "source": [
    "\n",
    "with open('historical_data/jamaica.json') as f:\n",
    "    file_data = json.load(f)\n",
    "    collection.insert_many(file_data)\n",
    "    client.close()"
   ]
  },
  {
   "cell_type": "code",
   "execution_count": 27,
   "metadata": {},
   "outputs": [],
   "source": [
    "\n",
    "with open('historical_data/martinique.json') as f:\n",
    "    file_data = json.load(f)\n",
    "    collection.insert_many(file_data)\n",
    "    client.close()"
   ]
  },
  {
   "cell_type": "code",
   "execution_count": 28,
   "metadata": {},
   "outputs": [],
   "source": [
    "\n",
    "with open('historical_data/mexico.json') as f:\n",
    "    file_data = json.load(f)\n",
    "    collection.insert_many(file_data)\n",
    "    client.close()"
   ]
  },
  {
   "cell_type": "code",
   "execution_count": 29,
   "metadata": {},
   "outputs": [],
   "source": [
    "\n",
    "with open('historical_data/monserrat.json') as f:\n",
    "    file_data = json.load(f)\n",
    "    collection.insert_many(file_data)\n",
    "    client.close()"
   ]
  },
  {
   "cell_type": "code",
   "execution_count": 30,
   "metadata": {},
   "outputs": [],
   "source": [
    "\n",
    "with open('historical_data/nicaragua.json') as f:\n",
    "    file_data = json.load(f)\n",
    "    collection.insert_many(file_data)\n",
    "    client.close()"
   ]
  },
  {
   "cell_type": "code",
   "execution_count": 31,
   "metadata": {},
   "outputs": [],
   "source": [
    "\n",
    "with open('historical_data/panama.json') as f:\n",
    "    file_data = json.load(f)\n",
    "    collection.insert_many(file_data)\n",
    "    client.close()"
   ]
  },
  {
   "cell_type": "code",
   "execution_count": 32,
   "metadata": {},
   "outputs": [],
   "source": [
    "\n",
    "with open('historical_data/puertorico.json') as f:\n",
    "    file_data = json.load(f)\n",
    "    collection.insert_many(file_data)\n",
    "    client.close()"
   ]
  },
  {
   "cell_type": "code",
   "execution_count": 33,
   "metadata": {},
   "outputs": [],
   "source": [
    "\n",
    "with open('historical_data/saintkittsandnevis.json') as f:\n",
    "    file_data = json.load(f)\n",
    "    collection.insert_many(file_data)\n",
    "    client.close()"
   ]
  },
  {
   "cell_type": "code",
   "execution_count": 34,
   "metadata": {},
   "outputs": [],
   "source": [
    "\n",
    "with open('historical_data/saintmartin.json') as f:\n",
    "    file_data = json.load(f)\n",
    "    collection.insert_many(file_data)\n",
    "    client.close()"
   ]
  },
  {
   "cell_type": "code",
   "execution_count": 35,
   "metadata": {},
   "outputs": [],
   "source": [
    "\n",
    "with open('historical_data/sintmaarten.json') as f:\n",
    "    file_data = json.load(f)\n",
    "    collection.insert_many(file_data)\n",
    "    client.close()"
   ]
  },
  {
   "cell_type": "code",
   "execution_count": 36,
   "metadata": {},
   "outputs": [],
   "source": [
    "\n",
    "with open('historical_data/trinidadandtobago.json') as f:\n",
    "    file_data = json.load(f)\n",
    "    collection.insert_many(file_data)\n",
    "    client.close()"
   ]
  },
  {
   "cell_type": "code",
   "execution_count": 37,
   "metadata": {},
   "outputs": [],
   "source": [
    "\n",
    "with open('historical_data/turkandcaicos.json') as f:\n",
    "    file_data = json.load(f)\n",
    "    collection.insert_many(file_data)\n",
    "    client.close()"
   ]
  },
  {
   "cell_type": "code",
   "execution_count": 38,
   "metadata": {},
   "outputs": [],
   "source": [
    "\n",
    "with open('historical_data/usa.json') as f:\n",
    "    file_data = json.load(f)\n",
    "    collection.insert_many(file_data)\n",
    "    client.close()"
   ]
  },
  {
   "cell_type": "code",
   "execution_count": 39,
   "metadata": {},
   "outputs": [],
   "source": [
    "\n",
    "with open('historical_data/usaminor.json') as f:\n",
    "    file_data = json.load(f)\n",
    "    collection.insert_many(file_data)\n",
    "    client.close()"
   ]
  },
  {
   "cell_type": "code",
   "execution_count": 40,
   "metadata": {},
   "outputs": [],
   "source": [
    "\n",
    "with open('historical_data/usavirgin.json') as f:\n",
    "    file_data = json.load(f)\n",
    "    collection.insert_many(file_data)\n",
    "    client.close()"
   ]
  },
  {
   "cell_type": "code",
   "execution_count": null,
   "metadata": {},
   "outputs": [],
   "source": []
  },
  {
   "cell_type": "code",
   "execution_count": null,
   "metadata": {},
   "outputs": [],
   "source": []
  }
 ],
 "metadata": {
  "kernelspec": {
   "display_name": "Python 3",
   "language": "python",
   "name": "python3"
  },
  "language_info": {
   "codemirror_mode": {
    "name": "ipython",
    "version": 3
   },
   "file_extension": ".py",
   "mimetype": "text/x-python",
   "name": "python",
   "nbconvert_exporter": "python",
   "pygments_lexer": "ipython3",
   "version": "3.7.4"
  }
 },
 "nbformat": 4,
 "nbformat_minor": 2
}
