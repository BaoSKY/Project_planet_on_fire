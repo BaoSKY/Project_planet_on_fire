{
 "cells": [
  {
   "cell_type": "code",
   "execution_count": 2,
   "metadata": {},
   "outputs": [
    {
     "name": "stdout",
     "output_type": "stream",
     "text": [
      "https://firms.modaps.eosdis.nasa.gov/active_fire/c6/text/MODIS_C6_Global_7d.csv\n"
     ]
    }
   ],
   "source": [
    "from bs4 import BeautifulSoup\n",
    "from splinter import Browser\n",
    "import requests\n",
    "import pandas as pd\n",
    "from selenium import webdriver\n",
    "from webdriver_manager.chrome import ChromeDriverManager\n",
    "from sqlalchemy import create_engine\n",
    "from sqlalchemy.ext.declarative import declarative_base\n",
    "from sqlalchemy import Column, Integer, String, Float\n",
    "import datetime as dt  \n",
    "import pandas as pd\n",
    "\n",
    "\n",
    "browser = Browser('chrome', headless=True)\n",
    "\n",
    "Base = declarative_base()\n",
    "\n",
    "todaysDate = str(dt.date.today())\n",
    "\n",
    "\n",
    "connection_string = \"postgres:Yatish28$@localhost:5432/planetOnFire_db\"\n",
    "engine = create_engine(f'postgresql+psycopg2://{connection_string}')\n",
    "Base.metadata.create_all(engine)\n",
    "engine.table_names()\n",
    "\n",
    "date_df = pd.read_sql_query('select acq_date from cleaned_df', con=engine)\n",
    "date_df\n",
    "\n",
    "\n",
    "# URL of page to be scraped\n",
    "url = \"https://earthdata.nasa.gov/earth-observation-data/near-real-time/firms/active-fire-data#ed-firms-archive\"\n",
    "\n",
    "\n",
    "    \n",
    "# Retrieve page with the requests module\n",
    "response = requests.get(url)\n",
    "soup = BeautifulSoup(response.text, 'html.parser')\n",
    "#print(soup.prettify())\n",
    "\n",
    "#grab third table (TXT data)\n",
    "table = soup.find_all('table')[2]\n",
    "#print(table)\n",
    "\n",
    "#grab link for 7 days data in the second column (with MODIS 1 km data)\n",
    "link = table.find_all('a', text='7d')[0]['href']\n",
    "print(link)       \n",
    "#print(str(date_df)==todaysDate)"
   ]
  },
  {
   "cell_type": "code",
   "execution_count": 3,
   "metadata": {
    "scrolled": true
   },
   "outputs": [
    {
     "data": {
      "text/html": [
       "<div>\n",
       "<style scoped>\n",
       "    .dataframe tbody tr th:only-of-type {\n",
       "        vertical-align: middle;\n",
       "    }\n",
       "\n",
       "    .dataframe tbody tr th {\n",
       "        vertical-align: top;\n",
       "    }\n",
       "\n",
       "    .dataframe thead th {\n",
       "        text-align: right;\n",
       "    }\n",
       "</style>\n",
       "<table border=\"1\" class=\"dataframe\">\n",
       "  <thead>\n",
       "    <tr style=\"text-align: right;\">\n",
       "      <th></th>\n",
       "      <th>latitude</th>\n",
       "      <th>longitude</th>\n",
       "      <th>brightness</th>\n",
       "      <th>scan</th>\n",
       "      <th>track</th>\n",
       "      <th>acq_date</th>\n",
       "      <th>acq_time</th>\n",
       "      <th>satellite</th>\n",
       "      <th>confidence</th>\n",
       "      <th>version</th>\n",
       "      <th>bright_t31</th>\n",
       "      <th>frp</th>\n",
       "      <th>daynight</th>\n",
       "    </tr>\n",
       "  </thead>\n",
       "  <tbody>\n",
       "    <tr>\n",
       "      <th>105108</th>\n",
       "      <td>-31.830</td>\n",
       "      <td>147.700</td>\n",
       "      <td>317.3</td>\n",
       "      <td>1.7</td>\n",
       "      <td>1.3</td>\n",
       "      <td>2020-02-11</td>\n",
       "      <td>2355</td>\n",
       "      <td>T</td>\n",
       "      <td>64</td>\n",
       "      <td>6.0NRT</td>\n",
       "      <td>294.9</td>\n",
       "      <td>17.2</td>\n",
       "      <td>D</td>\n",
       "    </tr>\n",
       "    <tr>\n",
       "      <th>105109</th>\n",
       "      <td>-35.730</td>\n",
       "      <td>143.783</td>\n",
       "      <td>317.6</td>\n",
       "      <td>2.4</td>\n",
       "      <td>1.5</td>\n",
       "      <td>2020-02-11</td>\n",
       "      <td>2355</td>\n",
       "      <td>T</td>\n",
       "      <td>54</td>\n",
       "      <td>6.0NRT</td>\n",
       "      <td>297.6</td>\n",
       "      <td>19.1</td>\n",
       "      <td>D</td>\n",
       "    </tr>\n",
       "    <tr>\n",
       "      <th>105110</th>\n",
       "      <td>-26.718</td>\n",
       "      <td>150.555</td>\n",
       "      <td>328.5</td>\n",
       "      <td>1.4</td>\n",
       "      <td>1.2</td>\n",
       "      <td>2020-02-11</td>\n",
       "      <td>2350</td>\n",
       "      <td>T</td>\n",
       "      <td>81</td>\n",
       "      <td>6.0NRT</td>\n",
       "      <td>296.7</td>\n",
       "      <td>35.2</td>\n",
       "      <td>D</td>\n",
       "    </tr>\n",
       "    <tr>\n",
       "      <th>105111</th>\n",
       "      <td>-26.097</td>\n",
       "      <td>146.786</td>\n",
       "      <td>325.5</td>\n",
       "      <td>2.6</td>\n",
       "      <td>1.6</td>\n",
       "      <td>2020-02-11</td>\n",
       "      <td>2350</td>\n",
       "      <td>T</td>\n",
       "      <td>73</td>\n",
       "      <td>6.0NRT</td>\n",
       "      <td>302.5</td>\n",
       "      <td>41.7</td>\n",
       "      <td>D</td>\n",
       "    </tr>\n",
       "    <tr>\n",
       "      <th>105112</th>\n",
       "      <td>-29.569</td>\n",
       "      <td>149.867</td>\n",
       "      <td>316.0</td>\n",
       "      <td>1.4</td>\n",
       "      <td>1.2</td>\n",
       "      <td>2020-02-11</td>\n",
       "      <td>2350</td>\n",
       "      <td>T</td>\n",
       "      <td>60</td>\n",
       "      <td>6.0NRT</td>\n",
       "      <td>295.3</td>\n",
       "      <td>10.8</td>\n",
       "      <td>D</td>\n",
       "    </tr>\n",
       "  </tbody>\n",
       "</table>\n",
       "</div>"
      ],
      "text/plain": [
       "        latitude  longitude  brightness  scan  track    acq_date  acq_time  \\\n",
       "105108   -31.830    147.700       317.3   1.7    1.3  2020-02-11      2355   \n",
       "105109   -35.730    143.783       317.6   2.4    1.5  2020-02-11      2355   \n",
       "105110   -26.718    150.555       328.5   1.4    1.2  2020-02-11      2350   \n",
       "105111   -26.097    146.786       325.5   2.6    1.6  2020-02-11      2350   \n",
       "105112   -29.569    149.867       316.0   1.4    1.2  2020-02-11      2350   \n",
       "\n",
       "       satellite  confidence version  bright_t31   frp daynight  \n",
       "105108         T          64  6.0NRT       294.9  17.2        D  \n",
       "105109         T          54  6.0NRT       297.6  19.1        D  \n",
       "105110         T          81  6.0NRT       296.7  35.2        D  \n",
       "105111         T          73  6.0NRT       302.5  41.7        D  \n",
       "105112         T          60  6.0NRT       295.3  10.8        D  "
      ]
     },
     "execution_count": 3,
     "metadata": {},
     "output_type": "execute_result"
    }
   ],
   "source": [
    "df = pd.read_csv(link)\n",
    "\n",
    "df.tail()"
   ]
  },
  {
   "cell_type": "code",
   "execution_count": 4,
   "metadata": {},
   "outputs": [],
   "source": [
    "#new_df = df.loc[df[\"acq_date\"]==todaysDate]\n",
    "#new_df.tail(1)"
   ]
  },
  {
   "cell_type": "code",
   "execution_count": 5,
   "metadata": {},
   "outputs": [
    {
     "data": {
      "text/html": [
       "<div>\n",
       "<style scoped>\n",
       "    .dataframe tbody tr th:only-of-type {\n",
       "        vertical-align: middle;\n",
       "    }\n",
       "\n",
       "    .dataframe tbody tr th {\n",
       "        vertical-align: top;\n",
       "    }\n",
       "\n",
       "    .dataframe thead th {\n",
       "        text-align: right;\n",
       "    }\n",
       "</style>\n",
       "<table border=\"1\" class=\"dataframe\">\n",
       "  <thead>\n",
       "    <tr style=\"text-align: right;\">\n",
       "      <th></th>\n",
       "      <th>latitude</th>\n",
       "      <th>longitude</th>\n",
       "      <th>brightness</th>\n",
       "      <th>acq_date</th>\n",
       "      <th>bright_t31</th>\n",
       "    </tr>\n",
       "  </thead>\n",
       "  <tbody>\n",
       "    <tr>\n",
       "      <th>105108</th>\n",
       "      <td>-31.830</td>\n",
       "      <td>147.700</td>\n",
       "      <td>317.3</td>\n",
       "      <td>2020-02-11</td>\n",
       "      <td>294.9</td>\n",
       "    </tr>\n",
       "    <tr>\n",
       "      <th>105109</th>\n",
       "      <td>-35.730</td>\n",
       "      <td>143.783</td>\n",
       "      <td>317.6</td>\n",
       "      <td>2020-02-11</td>\n",
       "      <td>297.6</td>\n",
       "    </tr>\n",
       "    <tr>\n",
       "      <th>105110</th>\n",
       "      <td>-26.718</td>\n",
       "      <td>150.555</td>\n",
       "      <td>328.5</td>\n",
       "      <td>2020-02-11</td>\n",
       "      <td>296.7</td>\n",
       "    </tr>\n",
       "    <tr>\n",
       "      <th>105111</th>\n",
       "      <td>-26.097</td>\n",
       "      <td>146.786</td>\n",
       "      <td>325.5</td>\n",
       "      <td>2020-02-11</td>\n",
       "      <td>302.5</td>\n",
       "    </tr>\n",
       "    <tr>\n",
       "      <th>105112</th>\n",
       "      <td>-29.569</td>\n",
       "      <td>149.867</td>\n",
       "      <td>316.0</td>\n",
       "      <td>2020-02-11</td>\n",
       "      <td>295.3</td>\n",
       "    </tr>\n",
       "  </tbody>\n",
       "</table>\n",
       "</div>"
      ],
      "text/plain": [
       "        latitude  longitude  brightness    acq_date  bright_t31\n",
       "105108   -31.830    147.700       317.3  2020-02-11       294.9\n",
       "105109   -35.730    143.783       317.6  2020-02-11       297.6\n",
       "105110   -26.718    150.555       328.5  2020-02-11       296.7\n",
       "105111   -26.097    146.786       325.5  2020-02-11       302.5\n",
       "105112   -29.569    149.867       316.0  2020-02-11       295.3"
      ]
     },
     "execution_count": 5,
     "metadata": {},
     "output_type": "execute_result"
    }
   ],
   "source": [
    "cleaned_df = df.drop(columns=[\"scan\",\"track\",\"acq_time\",\"satellite\",\"confidence\",\"version\",\"frp\",\"daynight\"])\n",
    "cleaned_df.tail()"
   ]
  },
  {
   "cell_type": "code",
   "execution_count": 6,
   "metadata": {},
   "outputs": [],
   "source": [
    "#from sqlalchemy import create_engine\n",
    "\n",
    "connection_string = \"postgres:Yatish28$@localhost:5432/planetOnFire_db\"\n",
    "engine = create_engine(f'postgresql+psycopg2://{connection_string}')"
   ]
  },
  {
   "cell_type": "code",
   "execution_count": 7,
   "metadata": {},
   "outputs": [
    {
     "data": {
      "text/plain": [
       "['Trial_table', 'cleaned_df', 'new_df']"
      ]
     },
     "execution_count": 7,
     "metadata": {},
     "output_type": "execute_result"
    }
   ],
   "source": [
    "engine.table_names()"
   ]
  },
  {
   "cell_type": "code",
   "execution_count": 8,
   "metadata": {},
   "outputs": [],
   "source": [
    "from sqlalchemy import create_engine\n",
    "\n",
    "# Import and establish Base for which classes will be constructed \n",
    "from sqlalchemy.ext.declarative import declarative_base\n",
    "Base = declarative_base()\n",
    "\n",
    "# Import modules to declare columns and column data types\n",
    "from sqlalchemy import Column, Integer, String, Float"
   ]
  },
  {
   "cell_type": "code",
   "execution_count": 9,
   "metadata": {},
   "outputs": [
    {
     "name": "stdout",
     "output_type": "stream",
     "text": [
      "2020-02-11\n"
     ]
    }
   ],
   "source": [
    "Base.metadata.create_all(engine)\n",
    "print(cleaned_df.loc[cleaned_df.index[-1], \"acq_date\"])"
   ]
  },
  {
   "cell_type": "code",
   "execution_count": 10,
   "metadata": {},
   "outputs": [],
   "source": [
    "from sqlalchemy.orm import Session\n",
    "session = Session(bind=engine)"
   ]
  },
  {
   "cell_type": "code",
   "execution_count": 11,
   "metadata": {},
   "outputs": [],
   "source": [
    "#The code below is commented because when we run \n",
    "#new_df.to_sql('new_df', con=engine, if_exists='replace', index=False)\n",
    "\n",
    "#if (cleaned_df.loc[cleaned_df.index[-1], \"acq_date\"]!=todaysDate):\n",
    "cleaned_df.to_sql('cleaned_df', con=engine, if_exists='replace', index=False) "
   ]
  },
  {
   "cell_type": "code",
   "execution_count": 12,
   "metadata": {},
   "outputs": [
    {
     "data": {
      "text/plain": [
       "['Trial_table', 'cleaned_df', 'new_df']"
      ]
     },
     "execution_count": 12,
     "metadata": {},
     "output_type": "execute_result"
    }
   ],
   "source": [
    "engine.table_names()"
   ]
  },
  {
   "cell_type": "code",
   "execution_count": 13,
   "metadata": {},
   "outputs": [],
   "source": [
    "#scrapedData = pd.read_sql_query('select * from cleaned_df', con=engine).tail()\n",
    "#scrapedData\n",
    "#engine.execute(\"SELECT * FROM users\").fetchall()"
   ]
  },
  {
   "cell_type": "code",
   "execution_count": 14,
   "metadata": {},
   "outputs": [],
   "source": [
    "#longi = pd.read_sql_query('select longitude from cleaned_df', con=engine)\n",
    "#dictlongi = longi.to_dict('longi')\n",
    "#dictlongi\n"
   ]
  },
  {
   "cell_type": "code",
   "execution_count": 15,
   "metadata": {},
   "outputs": [
    {
     "name": "stdout",
     "output_type": "stream",
     "text": [
      "table exists\n"
     ]
    },
    {
     "data": {
      "text/html": [
       "<div>\n",
       "<style scoped>\n",
       "    .dataframe tbody tr th:only-of-type {\n",
       "        vertical-align: middle;\n",
       "    }\n",
       "\n",
       "    .dataframe tbody tr th {\n",
       "        vertical-align: top;\n",
       "    }\n",
       "\n",
       "    .dataframe thead th {\n",
       "        text-align: right;\n",
       "    }\n",
       "</style>\n",
       "<table border=\"1\" class=\"dataframe\">\n",
       "  <thead>\n",
       "    <tr style=\"text-align: right;\">\n",
       "      <th></th>\n",
       "      <th>latitude</th>\n",
       "      <th>longitude</th>\n",
       "      <th>brightness</th>\n",
       "      <th>acq_date</th>\n",
       "      <th>bright_t31</th>\n",
       "    </tr>\n",
       "  </thead>\n",
       "  <tbody>\n",
       "    <tr>\n",
       "      <th>105108</th>\n",
       "      <td>-31.830</td>\n",
       "      <td>147.700</td>\n",
       "      <td>317.3</td>\n",
       "      <td>2020-02-11</td>\n",
       "      <td>294.9</td>\n",
       "    </tr>\n",
       "    <tr>\n",
       "      <th>105109</th>\n",
       "      <td>-35.730</td>\n",
       "      <td>143.783</td>\n",
       "      <td>317.6</td>\n",
       "      <td>2020-02-11</td>\n",
       "      <td>297.6</td>\n",
       "    </tr>\n",
       "    <tr>\n",
       "      <th>105110</th>\n",
       "      <td>-26.718</td>\n",
       "      <td>150.555</td>\n",
       "      <td>328.5</td>\n",
       "      <td>2020-02-11</td>\n",
       "      <td>296.7</td>\n",
       "    </tr>\n",
       "    <tr>\n",
       "      <th>105111</th>\n",
       "      <td>-26.097</td>\n",
       "      <td>146.786</td>\n",
       "      <td>325.5</td>\n",
       "      <td>2020-02-11</td>\n",
       "      <td>302.5</td>\n",
       "    </tr>\n",
       "    <tr>\n",
       "      <th>105112</th>\n",
       "      <td>-29.569</td>\n",
       "      <td>149.867</td>\n",
       "      <td>316.0</td>\n",
       "      <td>2020-02-11</td>\n",
       "      <td>295.3</td>\n",
       "    </tr>\n",
       "  </tbody>\n",
       "</table>\n",
       "</div>"
      ],
      "text/plain": [
       "        latitude  longitude  brightness    acq_date  bright_t31\n",
       "105108   -31.830    147.700       317.3  2020-02-11       294.9\n",
       "105109   -35.730    143.783       317.6  2020-02-11       297.6\n",
       "105110   -26.718    150.555       328.5  2020-02-11       296.7\n",
       "105111   -26.097    146.786       325.5  2020-02-11       302.5\n",
       "105112   -29.569    149.867       316.0  2020-02-11       295.3"
      ]
     },
     "execution_count": 15,
     "metadata": {},
     "output_type": "execute_result"
    }
   ],
   "source": [
    "from bs4 import BeautifulSoup\n",
    "from splinter import Browser\n",
    "import requests\n",
    "import pandas as pd\n",
    "from selenium import webdriver\n",
    "from webdriver_manager.chrome import ChromeDriverManager\n",
    "from sqlalchemy import create_engine\n",
    "from sqlalchemy.ext.declarative import declarative_base\n",
    "from sqlalchemy import Column, Integer, String, Float\n",
    "import datetime as dt  \n",
    "import pandas as pd\n",
    "\n",
    "\n",
    "browser = Browser('chrome', headless=True)\n",
    "\n",
    "Base = declarative_base()\n",
    "\n",
    "todaysDate = str(dt.date.today())\n",
    "\n",
    "\n",
    "connection_string = \"postgres:Yatish28$@localhost:5432/planetOnFire_db\"\n",
    "engine = create_engine(f'postgresql+psycopg2://{connection_string}')\n",
    "Base.metadata.create_all(engine)\n",
    "engine.table_names()\n",
    "\n",
    "date_df = pd.read_sql_query('select acq_date from cleaned_df', con=engine)\n",
    "date_check = date_df[\"acq_date\"].iloc[-1]\n",
    "\n",
    "# URL of page to be scraped\n",
    "url = \"https://earthdata.nasa.gov/earth-observation-data/near-real-time/firms/active-fire-data#ed-firms-archive\"\n",
    "\n",
    "if ((date_check)!=todaysDate):\n",
    "    # Retrieve page with the requests module\n",
    "    response = requests.get(url)\n",
    "    soup = BeautifulSoup(response.text, 'html.parser')\n",
    "    #print(soup.prettify())\n",
    "\n",
    "    #grab third table (TXT data)\n",
    "    table = soup.find_all('table')[2]\n",
    "    #print(table)\n",
    "\n",
    "    #grab link for 7 days data in the second column (with MODIS 1 km data)\n",
    "    link = table.find_all('a', text='7d')[0]['href']\n",
    "    #print(link)\n",
    "    \n",
    "    df = pd.read_csv(link)\n",
    "    \n",
    "    cleaned_df = df.drop(columns=[\"scan\",\"track\",\"acq_time\",\"satellite\",\"confidence\",\"version\",\"frp\",\"daynight\"])\n",
    "    \n",
    "    cleaned_df.to_sql('cleaned_df', con=engine, if_exists='replace', index=False) \n",
    "    print (\"scraped\")\n",
    "\n",
    "else:\n",
    "    print(\"table exists\")\n",
    "Mdata = pd.read_sql_query('select * from cleaned_df', con=engine).tail()\n",
    "Mdata"
   ]
  },
  {
   "cell_type": "code",
   "execution_count": 16,
   "metadata": {},
   "outputs": [
    {
     "data": {
      "text/plain": [
       "'2020-02-11'"
      ]
     },
     "execution_count": 16,
     "metadata": {},
     "output_type": "execute_result"
    }
   ],
   "source": [
    "date_df = pd.read_sql_query('select acq_date from cleaned_df', con=engine)\n",
    "date_check = date_df[\"acq_date\"].iloc[-1]\n",
    "date_check"
   ]
  },
  {
   "cell_type": "code",
   "execution_count": 17,
   "metadata": {},
   "outputs": [
    {
     "data": {
      "text/plain": [
       "'2020-02-11'"
      ]
     },
     "execution_count": 17,
     "metadata": {},
     "output_type": "execute_result"
    }
   ],
   "source": [
    "todaysDate"
   ]
  },
  {
   "cell_type": "code",
   "execution_count": null,
   "metadata": {},
   "outputs": [],
   "source": []
  }
 ],
 "metadata": {
  "kernelspec": {
   "display_name": "Python 3",
   "language": "python",
   "name": "python3"
  },
  "language_info": {
   "codemirror_mode": {
    "name": "ipython",
    "version": 3
   },
   "file_extension": ".py",
   "mimetype": "text/x-python",
   "name": "python",
   "nbconvert_exporter": "python",
   "pygments_lexer": "ipython3",
   "version": "3.7.4"
  }
 },
 "nbformat": 4,
 "nbformat_minor": 2
}
